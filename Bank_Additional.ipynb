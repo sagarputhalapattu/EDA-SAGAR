{
 "cells": [
  {
   "cell_type": "code",
   "execution_count": 1,
   "id": "87aba90c-5e37-42be-a65b-8b87c2d78cde",
   "metadata": {},
   "outputs": [],
   "source": [
    "import pandas as pd\n",
    "import numpy as np\n",
    "import matplotlib.pyplot as plt\n",
    "import seaborn as sns"
   ]
  },
  {
   "cell_type": "code",
   "execution_count": 2,
   "id": "615bb502-c125-428b-9229-5a810acdb305",
   "metadata": {},
   "outputs": [],
   "source": [
    "df_bank = pd.read_csv(r\"bank-additional.csv\",sep=\";\")"
   ]
  },
  {
   "cell_type": "code",
   "execution_count": 3,
   "id": "4c06f320-baa0-4575-a51f-1c304d9a4bd7",
   "metadata": {},
   "outputs": [
    {
     "data": {
      "text/plain": [
       "(4119, 21)"
      ]
     },
     "execution_count": 3,
     "metadata": {},
     "output_type": "execute_result"
    }
   ],
   "source": [
    "df_bank.shape"
   ]
  },
  {
   "cell_type": "markdown",
   "id": "a050ba8e-49c8-469e-adb1-b6f2a16f4af9",
   "metadata": {},
   "source": [
    "**observation**\n",
    "\n",
    "1) There are 4119 rows are and 21 columns"
   ]
  },
  {
   "cell_type": "code",
   "execution_count": 4,
   "id": "cfec36ed-c89c-460f-9c48-3d3081a5f5f2",
   "metadata": {},
   "outputs": [
    {
     "data": {
      "text/html": [
       "<div>\n",
       "<style scoped>\n",
       "    .dataframe tbody tr th:only-of-type {\n",
       "        vertical-align: middle;\n",
       "    }\n",
       "\n",
       "    .dataframe tbody tr th {\n",
       "        vertical-align: top;\n",
       "    }\n",
       "\n",
       "    .dataframe thead th {\n",
       "        text-align: right;\n",
       "    }\n",
       "</style>\n",
       "<table border=\"1\" class=\"dataframe\">\n",
       "  <thead>\n",
       "    <tr style=\"text-align: right;\">\n",
       "      <th></th>\n",
       "      <th>age</th>\n",
       "      <th>job</th>\n",
       "      <th>marital</th>\n",
       "      <th>education</th>\n",
       "      <th>default</th>\n",
       "      <th>housing</th>\n",
       "      <th>loan</th>\n",
       "      <th>contact</th>\n",
       "      <th>month</th>\n",
       "      <th>day_of_week</th>\n",
       "      <th>...</th>\n",
       "      <th>campaign</th>\n",
       "      <th>pdays</th>\n",
       "      <th>previous</th>\n",
       "      <th>poutcome</th>\n",
       "      <th>emp.var.rate</th>\n",
       "      <th>cons.price.idx</th>\n",
       "      <th>cons.conf.idx</th>\n",
       "      <th>euribor3m</th>\n",
       "      <th>nr.employed</th>\n",
       "      <th>y</th>\n",
       "    </tr>\n",
       "  </thead>\n",
       "  <tbody>\n",
       "    <tr>\n",
       "      <th>0</th>\n",
       "      <td>30</td>\n",
       "      <td>blue-collar</td>\n",
       "      <td>married</td>\n",
       "      <td>basic.9y</td>\n",
       "      <td>no</td>\n",
       "      <td>yes</td>\n",
       "      <td>no</td>\n",
       "      <td>cellular</td>\n",
       "      <td>may</td>\n",
       "      <td>fri</td>\n",
       "      <td>...</td>\n",
       "      <td>2</td>\n",
       "      <td>999</td>\n",
       "      <td>0</td>\n",
       "      <td>nonexistent</td>\n",
       "      <td>-1.8</td>\n",
       "      <td>92.893</td>\n",
       "      <td>-46.2</td>\n",
       "      <td>1.313</td>\n",
       "      <td>5099.1</td>\n",
       "      <td>no</td>\n",
       "    </tr>\n",
       "    <tr>\n",
       "      <th>1</th>\n",
       "      <td>39</td>\n",
       "      <td>services</td>\n",
       "      <td>single</td>\n",
       "      <td>high.school</td>\n",
       "      <td>no</td>\n",
       "      <td>no</td>\n",
       "      <td>no</td>\n",
       "      <td>telephone</td>\n",
       "      <td>may</td>\n",
       "      <td>fri</td>\n",
       "      <td>...</td>\n",
       "      <td>4</td>\n",
       "      <td>999</td>\n",
       "      <td>0</td>\n",
       "      <td>nonexistent</td>\n",
       "      <td>1.1</td>\n",
       "      <td>93.994</td>\n",
       "      <td>-36.4</td>\n",
       "      <td>4.855</td>\n",
       "      <td>5191.0</td>\n",
       "      <td>no</td>\n",
       "    </tr>\n",
       "    <tr>\n",
       "      <th>2</th>\n",
       "      <td>25</td>\n",
       "      <td>services</td>\n",
       "      <td>married</td>\n",
       "      <td>high.school</td>\n",
       "      <td>no</td>\n",
       "      <td>yes</td>\n",
       "      <td>no</td>\n",
       "      <td>telephone</td>\n",
       "      <td>jun</td>\n",
       "      <td>wed</td>\n",
       "      <td>...</td>\n",
       "      <td>1</td>\n",
       "      <td>999</td>\n",
       "      <td>0</td>\n",
       "      <td>nonexistent</td>\n",
       "      <td>1.4</td>\n",
       "      <td>94.465</td>\n",
       "      <td>-41.8</td>\n",
       "      <td>4.962</td>\n",
       "      <td>5228.1</td>\n",
       "      <td>no</td>\n",
       "    </tr>\n",
       "    <tr>\n",
       "      <th>3</th>\n",
       "      <td>38</td>\n",
       "      <td>services</td>\n",
       "      <td>married</td>\n",
       "      <td>basic.9y</td>\n",
       "      <td>no</td>\n",
       "      <td>unknown</td>\n",
       "      <td>unknown</td>\n",
       "      <td>telephone</td>\n",
       "      <td>jun</td>\n",
       "      <td>fri</td>\n",
       "      <td>...</td>\n",
       "      <td>3</td>\n",
       "      <td>999</td>\n",
       "      <td>0</td>\n",
       "      <td>nonexistent</td>\n",
       "      <td>1.4</td>\n",
       "      <td>94.465</td>\n",
       "      <td>-41.8</td>\n",
       "      <td>4.959</td>\n",
       "      <td>5228.1</td>\n",
       "      <td>no</td>\n",
       "    </tr>\n",
       "    <tr>\n",
       "      <th>4</th>\n",
       "      <td>47</td>\n",
       "      <td>admin.</td>\n",
       "      <td>married</td>\n",
       "      <td>university.degree</td>\n",
       "      <td>no</td>\n",
       "      <td>yes</td>\n",
       "      <td>no</td>\n",
       "      <td>cellular</td>\n",
       "      <td>nov</td>\n",
       "      <td>mon</td>\n",
       "      <td>...</td>\n",
       "      <td>1</td>\n",
       "      <td>999</td>\n",
       "      <td>0</td>\n",
       "      <td>nonexistent</td>\n",
       "      <td>-0.1</td>\n",
       "      <td>93.200</td>\n",
       "      <td>-42.0</td>\n",
       "      <td>4.191</td>\n",
       "      <td>5195.8</td>\n",
       "      <td>no</td>\n",
       "    </tr>\n",
       "  </tbody>\n",
       "</table>\n",
       "<p>5 rows × 21 columns</p>\n",
       "</div>"
      ],
      "text/plain": [
       "   age          job  marital          education default  housing     loan  \\\n",
       "0   30  blue-collar  married           basic.9y      no      yes       no   \n",
       "1   39     services   single        high.school      no       no       no   \n",
       "2   25     services  married        high.school      no      yes       no   \n",
       "3   38     services  married           basic.9y      no  unknown  unknown   \n",
       "4   47       admin.  married  university.degree      no      yes       no   \n",
       "\n",
       "     contact month day_of_week  ...  campaign  pdays  previous     poutcome  \\\n",
       "0   cellular   may         fri  ...         2    999         0  nonexistent   \n",
       "1  telephone   may         fri  ...         4    999         0  nonexistent   \n",
       "2  telephone   jun         wed  ...         1    999         0  nonexistent   \n",
       "3  telephone   jun         fri  ...         3    999         0  nonexistent   \n",
       "4   cellular   nov         mon  ...         1    999         0  nonexistent   \n",
       "\n",
       "  emp.var.rate  cons.price.idx  cons.conf.idx  euribor3m  nr.employed   y  \n",
       "0         -1.8          92.893          -46.2      1.313       5099.1  no  \n",
       "1          1.1          93.994          -36.4      4.855       5191.0  no  \n",
       "2          1.4          94.465          -41.8      4.962       5228.1  no  \n",
       "3          1.4          94.465          -41.8      4.959       5228.1  no  \n",
       "4         -0.1          93.200          -42.0      4.191       5195.8  no  \n",
       "\n",
       "[5 rows x 21 columns]"
      ]
     },
     "execution_count": 4,
     "metadata": {},
     "output_type": "execute_result"
    }
   ],
   "source": [
    "df_bank.head(5)"
   ]
  },
  {
   "cell_type": "markdown",
   "id": "635c512e-b380-42fd-b042-2873270cd1a6",
   "metadata": {},
   "source": [
    "**observation**\n",
    "\n",
    "1. Dataset is having numerical and categorical data\n",
    "\n",
    "2. mixied data (Numerical+Categorical)\n",
    "\n",
    "3. There are feature"
   ]
  },
  {
   "cell_type": "code",
   "execution_count": 5,
   "id": "54d33e1b-122c-4a95-b487-88d1073e6e0d",
   "metadata": {},
   "outputs": [
    {
     "name": "stdout",
     "output_type": "stream",
     "text": [
      "Shape of dataset: (4119, 20)\n"
     ]
    },
    {
     "data": {
      "text/html": [
       "<div>\n",
       "<style scoped>\n",
       "    .dataframe tbody tr th:only-of-type {\n",
       "        vertical-align: middle;\n",
       "    }\n",
       "\n",
       "    .dataframe tbody tr th {\n",
       "        vertical-align: top;\n",
       "    }\n",
       "\n",
       "    .dataframe thead th {\n",
       "        text-align: right;\n",
       "    }\n",
       "</style>\n",
       "<table border=\"1\" class=\"dataframe\">\n",
       "  <thead>\n",
       "    <tr style=\"text-align: right;\">\n",
       "      <th></th>\n",
       "      <th>age</th>\n",
       "      <th>job</th>\n",
       "      <th>marital</th>\n",
       "      <th>education</th>\n",
       "      <th>default</th>\n",
       "      <th>housing</th>\n",
       "      <th>loan</th>\n",
       "      <th>contact</th>\n",
       "      <th>month</th>\n",
       "      <th>day_of_week</th>\n",
       "      <th>campaign</th>\n",
       "      <th>pdays</th>\n",
       "      <th>previous</th>\n",
       "      <th>poutcome</th>\n",
       "      <th>emp.var.rate</th>\n",
       "      <th>cons.price.idx</th>\n",
       "      <th>cons.conf.idx</th>\n",
       "      <th>euribor3m</th>\n",
       "      <th>nr.employed</th>\n",
       "      <th>y</th>\n",
       "    </tr>\n",
       "  </thead>\n",
       "  <tbody>\n",
       "    <tr>\n",
       "      <th>0</th>\n",
       "      <td>30</td>\n",
       "      <td>blue-collar</td>\n",
       "      <td>married</td>\n",
       "      <td>basic.9y</td>\n",
       "      <td>no</td>\n",
       "      <td>yes</td>\n",
       "      <td>no</td>\n",
       "      <td>cellular</td>\n",
       "      <td>may</td>\n",
       "      <td>fri</td>\n",
       "      <td>2</td>\n",
       "      <td>999</td>\n",
       "      <td>0</td>\n",
       "      <td>nonexistent</td>\n",
       "      <td>-1.8</td>\n",
       "      <td>92.893</td>\n",
       "      <td>-46.2</td>\n",
       "      <td>1.313</td>\n",
       "      <td>5099.1</td>\n",
       "      <td>no</td>\n",
       "    </tr>\n",
       "    <tr>\n",
       "      <th>1</th>\n",
       "      <td>39</td>\n",
       "      <td>services</td>\n",
       "      <td>single</td>\n",
       "      <td>high.school</td>\n",
       "      <td>no</td>\n",
       "      <td>no</td>\n",
       "      <td>no</td>\n",
       "      <td>telephone</td>\n",
       "      <td>may</td>\n",
       "      <td>fri</td>\n",
       "      <td>4</td>\n",
       "      <td>999</td>\n",
       "      <td>0</td>\n",
       "      <td>nonexistent</td>\n",
       "      <td>1.1</td>\n",
       "      <td>93.994</td>\n",
       "      <td>-36.4</td>\n",
       "      <td>4.855</td>\n",
       "      <td>5191.0</td>\n",
       "      <td>no</td>\n",
       "    </tr>\n",
       "    <tr>\n",
       "      <th>2</th>\n",
       "      <td>25</td>\n",
       "      <td>services</td>\n",
       "      <td>married</td>\n",
       "      <td>high.school</td>\n",
       "      <td>no</td>\n",
       "      <td>yes</td>\n",
       "      <td>no</td>\n",
       "      <td>telephone</td>\n",
       "      <td>jun</td>\n",
       "      <td>wed</td>\n",
       "      <td>1</td>\n",
       "      <td>999</td>\n",
       "      <td>0</td>\n",
       "      <td>nonexistent</td>\n",
       "      <td>1.4</td>\n",
       "      <td>94.465</td>\n",
       "      <td>-41.8</td>\n",
       "      <td>4.962</td>\n",
       "      <td>5228.1</td>\n",
       "      <td>no</td>\n",
       "    </tr>\n",
       "    <tr>\n",
       "      <th>3</th>\n",
       "      <td>38</td>\n",
       "      <td>services</td>\n",
       "      <td>married</td>\n",
       "      <td>basic.9y</td>\n",
       "      <td>no</td>\n",
       "      <td>unknown</td>\n",
       "      <td>unknown</td>\n",
       "      <td>telephone</td>\n",
       "      <td>jun</td>\n",
       "      <td>fri</td>\n",
       "      <td>3</td>\n",
       "      <td>999</td>\n",
       "      <td>0</td>\n",
       "      <td>nonexistent</td>\n",
       "      <td>1.4</td>\n",
       "      <td>94.465</td>\n",
       "      <td>-41.8</td>\n",
       "      <td>4.959</td>\n",
       "      <td>5228.1</td>\n",
       "      <td>no</td>\n",
       "    </tr>\n",
       "    <tr>\n",
       "      <th>4</th>\n",
       "      <td>47</td>\n",
       "      <td>admin.</td>\n",
       "      <td>married</td>\n",
       "      <td>university.degree</td>\n",
       "      <td>no</td>\n",
       "      <td>yes</td>\n",
       "      <td>no</td>\n",
       "      <td>cellular</td>\n",
       "      <td>nov</td>\n",
       "      <td>mon</td>\n",
       "      <td>1</td>\n",
       "      <td>999</td>\n",
       "      <td>0</td>\n",
       "      <td>nonexistent</td>\n",
       "      <td>-0.1</td>\n",
       "      <td>93.200</td>\n",
       "      <td>-42.0</td>\n",
       "      <td>4.191</td>\n",
       "      <td>5195.8</td>\n",
       "      <td>no</td>\n",
       "    </tr>\n",
       "  </tbody>\n",
       "</table>\n",
       "</div>"
      ],
      "text/plain": [
       "   age          job  marital          education default  housing     loan  \\\n",
       "0   30  blue-collar  married           basic.9y      no      yes       no   \n",
       "1   39     services   single        high.school      no       no       no   \n",
       "2   25     services  married        high.school      no      yes       no   \n",
       "3   38     services  married           basic.9y      no  unknown  unknown   \n",
       "4   47       admin.  married  university.degree      no      yes       no   \n",
       "\n",
       "     contact month day_of_week  campaign  pdays  previous     poutcome  \\\n",
       "0   cellular   may         fri         2    999         0  nonexistent   \n",
       "1  telephone   may         fri         4    999         0  nonexistent   \n",
       "2  telephone   jun         wed         1    999         0  nonexistent   \n",
       "3  telephone   jun         fri         3    999         0  nonexistent   \n",
       "4   cellular   nov         mon         1    999         0  nonexistent   \n",
       "\n",
       "   emp.var.rate  cons.price.idx  cons.conf.idx  euribor3m  nr.employed   y  \n",
       "0          -1.8          92.893          -46.2      1.313       5099.1  no  \n",
       "1           1.1          93.994          -36.4      4.855       5191.0  no  \n",
       "2           1.4          94.465          -41.8      4.962       5228.1  no  \n",
       "3           1.4          94.465          -41.8      4.959       5228.1  no  \n",
       "4          -0.1          93.200          -42.0      4.191       5195.8  no  "
      ]
     },
     "execution_count": 5,
     "metadata": {},
     "output_type": "execute_result"
    }
   ],
   "source": [
    "df_bank = df_bank.drop('duration',axis=1)\n",
    "print('Shape of dataset:',df_bank.shape)\n",
    "df_bank.head()"
   ]
  },
  {
   "cell_type": "code",
   "execution_count": 7,
   "id": "cee5fd97-6983-4eba-a5ab-9793b0c055fd",
   "metadata": {},
   "outputs": [
    {
     "name": "stdout",
     "output_type": "stream",
     "text": [
      "<class 'pandas.core.frame.DataFrame'>\n",
      "RangeIndex: 4119 entries, 0 to 4118\n",
      "Data columns (total 20 columns):\n",
      " #   Column          Non-Null Count  Dtype  \n",
      "---  ------          --------------  -----  \n",
      " 0   age             4119 non-null   int64  \n",
      " 1   job             4119 non-null   object \n",
      " 2   marital         4119 non-null   object \n",
      " 3   education       4119 non-null   object \n",
      " 4   default         4119 non-null   object \n",
      " 5   housing         4119 non-null   object \n",
      " 6   loan            4119 non-null   object \n",
      " 7   contact         4119 non-null   object \n",
      " 8   month           4119 non-null   object \n",
      " 9   day_of_week     4119 non-null   object \n",
      " 10  campaign        4119 non-null   int64  \n",
      " 11  pdays           4119 non-null   int64  \n",
      " 12  previous        4119 non-null   int64  \n",
      " 13  poutcome        4119 non-null   object \n",
      " 14  emp.var.rate    4119 non-null   float64\n",
      " 15  cons.price.idx  4119 non-null   float64\n",
      " 16  cons.conf.idx   4119 non-null   float64\n",
      " 17  euribor3m       4119 non-null   float64\n",
      " 18  nr.employed     4119 non-null   float64\n",
      " 19  y               4119 non-null   object \n",
      "dtypes: float64(5), int64(4), object(11)\n",
      "memory usage: 643.7+ KB\n"
     ]
    }
   ],
   "source": [
    "df_bank.info()"
   ]
  },
  {
   "cell_type": "code",
   "execution_count": 6,
   "id": "7c43649a-ad2f-40a8-ba64-41f16e099430",
   "metadata": {},
   "outputs": [
    {
     "data": {
      "text/plain": [
       "Index(['age', 'campaign', 'pdays', 'previous', 'emp.var.rate',\n",
       "       'cons.price.idx', 'cons.conf.idx', 'euribor3m', 'nr.employed'],\n",
       "      dtype='object')"
      ]
     },
     "execution_count": 6,
     "metadata": {},
     "output_type": "execute_result"
    }
   ],
   "source": [
    "num_cols = df_bank.select_dtypes(exclude='object').columns\n",
    "num_cols"
   ]
  },
  {
   "cell_type": "code",
   "execution_count": 7,
   "id": "c3a2cd35-57c8-4a63-85ee-46cd9fe754bc",
   "metadata": {},
   "outputs": [
    {
     "data": {
      "text/plain": [
       "Index(['job', 'marital', 'education', 'default', 'housing', 'loan', 'contact',\n",
       "       'month', 'day_of_week', 'poutcome', 'y'],\n",
       "      dtype='object')"
      ]
     },
     "execution_count": 7,
     "metadata": {},
     "output_type": "execute_result"
    }
   ],
   "source": [
    "cate_cols = df_bank.select_dtypes(include='object').columns\n",
    "cate_cols"
   ]
  },
  {
   "cell_type": "code",
   "execution_count": 8,
   "id": "1c4170c3-21b0-426c-a3c5-706ca2478460",
   "metadata": {},
   "outputs": [
    {
     "data": {
      "text/plain": [
       "age                 int64\n",
       "job                object\n",
       "marital            object\n",
       "education          object\n",
       "default            object\n",
       "housing            object\n",
       "loan               object\n",
       "contact            object\n",
       "month              object\n",
       "day_of_week        object\n",
       "campaign            int64\n",
       "pdays               int64\n",
       "previous            int64\n",
       "poutcome           object\n",
       "emp.var.rate      float64\n",
       "cons.price.idx    float64\n",
       "cons.conf.idx     float64\n",
       "euribor3m         float64\n",
       "nr.employed       float64\n",
       "y                  object\n",
       "dtype: object"
      ]
     },
     "execution_count": 8,
     "metadata": {},
     "output_type": "execute_result"
    }
   ],
   "source": [
    "df_bank.dtypes\n"
   ]
  },
  {
   "cell_type": "markdown",
   "id": "71582d41-8720-4cb7-8236-daadd671eba6",
   "metadata": {},
   "source": [
    "**observation**\n",
    "\n",
    "1)numerical columns : age, campaign, pdays, previous, emp.var.rate,cons.price.idx, cons.conf.idx, euribor3m, nr.employed\n",
    "\n",
    "2)categoriacl columns : job, marital, education, default, housing, loan, contact,month, day_of_week, poutcome, y\n",
    "\n",
    "3)Data types : int64\n",
    "                Object\n",
    "                float64"
   ]
  },
  {
   "cell_type": "markdown",
   "id": "de271e5c-a1e2-4612-aaf6-9a2d7108af5a",
   "metadata": {},
   "source": [
    "# Categorical-Data_analysis"
   ]
  },
  {
   "cell_type": "code",
   "execution_count": 9,
   "id": "4d79ff4b-ceb0-422c-b0ee-f01cabea9b11",
   "metadata": {},
   "outputs": [
    {
     "data": {
      "text/html": [
       "<div>\n",
       "<style scoped>\n",
       "    .dataframe tbody tr th:only-of-type {\n",
       "        vertical-align: middle;\n",
       "    }\n",
       "\n",
       "    .dataframe tbody tr th {\n",
       "        vertical-align: top;\n",
       "    }\n",
       "\n",
       "    .dataframe thead th {\n",
       "        text-align: right;\n",
       "    }\n",
       "</style>\n",
       "<table border=\"1\" class=\"dataframe\">\n",
       "  <thead>\n",
       "    <tr style=\"text-align: right;\">\n",
       "      <th></th>\n",
       "      <th>poutcome</th>\n",
       "    </tr>\n",
       "  </thead>\n",
       "  <tbody>\n",
       "    <tr>\n",
       "      <th>0</th>\n",
       "      <td>nonexistent</td>\n",
       "    </tr>\n",
       "    <tr>\n",
       "      <th>1</th>\n",
       "      <td>nonexistent</td>\n",
       "    </tr>\n",
       "    <tr>\n",
       "      <th>2</th>\n",
       "      <td>nonexistent</td>\n",
       "    </tr>\n",
       "    <tr>\n",
       "      <th>3</th>\n",
       "      <td>nonexistent</td>\n",
       "    </tr>\n",
       "    <tr>\n",
       "      <th>4</th>\n",
       "      <td>nonexistent</td>\n",
       "    </tr>\n",
       "    <tr>\n",
       "      <th>...</th>\n",
       "      <td>...</td>\n",
       "    </tr>\n",
       "    <tr>\n",
       "      <th>4114</th>\n",
       "      <td>nonexistent</td>\n",
       "    </tr>\n",
       "    <tr>\n",
       "      <th>4115</th>\n",
       "      <td>nonexistent</td>\n",
       "    </tr>\n",
       "    <tr>\n",
       "      <th>4116</th>\n",
       "      <td>failure</td>\n",
       "    </tr>\n",
       "    <tr>\n",
       "      <th>4117</th>\n",
       "      <td>nonexistent</td>\n",
       "    </tr>\n",
       "    <tr>\n",
       "      <th>4118</th>\n",
       "      <td>nonexistent</td>\n",
       "    </tr>\n",
       "  </tbody>\n",
       "</table>\n",
       "<p>4119 rows × 1 columns</p>\n",
       "</div>"
      ],
      "text/plain": [
       "         poutcome\n",
       "0     nonexistent\n",
       "1     nonexistent\n",
       "2     nonexistent\n",
       "3     nonexistent\n",
       "4     nonexistent\n",
       "...           ...\n",
       "4114  nonexistent\n",
       "4115  nonexistent\n",
       "4116      failure\n",
       "4117  nonexistent\n",
       "4118  nonexistent\n",
       "\n",
       "[4119 rows x 1 columns]"
      ]
     },
     "execution_count": 9,
     "metadata": {},
     "output_type": "execute_result"
    }
   ],
   "source": [
    "df_bank[['poutcome']]"
   ]
  },
  {
   "cell_type": "code",
   "execution_count": 10,
   "id": "7cc5ed34-fded-460a-a830-2f7f0e58a369",
   "metadata": {},
   "outputs": [
    {
     "data": {
      "text/plain": [
       "array(['nonexistent', 'failure', 'success'], dtype=object)"
      ]
     },
     "execution_count": 10,
     "metadata": {},
     "output_type": "execute_result"
    }
   ],
   "source": [
    "df_bank['poutcome'].unique()"
   ]
  },
  {
   "cell_type": "code",
   "execution_count": 11,
   "id": "cfa9c2eb-d383-42a0-be9f-816db34bebce",
   "metadata": {},
   "outputs": [
    {
     "data": {
      "text/plain": [
       "3"
      ]
     },
     "execution_count": 11,
     "metadata": {},
     "output_type": "execute_result"
    }
   ],
   "source": [
    "df_bank['poutcome'].nunique()"
   ]
  },
  {
   "cell_type": "code",
   "execution_count": 12,
   "id": "dc448567-d7b2-45a1-951b-52a0954f6599",
   "metadata": {},
   "outputs": [
    {
     "data": {
      "text/html": [
       "<div>\n",
       "<style scoped>\n",
       "    .dataframe tbody tr th:only-of-type {\n",
       "        vertical-align: middle;\n",
       "    }\n",
       "\n",
       "    .dataframe tbody tr th {\n",
       "        vertical-align: top;\n",
       "    }\n",
       "\n",
       "    .dataframe thead th {\n",
       "        text-align: right;\n",
       "    }\n",
       "</style>\n",
       "<table border=\"1\" class=\"dataframe\">\n",
       "  <thead>\n",
       "    <tr style=\"text-align: right;\">\n",
       "      <th></th>\n",
       "      <th>y</th>\n",
       "    </tr>\n",
       "  </thead>\n",
       "  <tbody>\n",
       "    <tr>\n",
       "      <th>0</th>\n",
       "      <td>no</td>\n",
       "    </tr>\n",
       "    <tr>\n",
       "      <th>1</th>\n",
       "      <td>no</td>\n",
       "    </tr>\n",
       "    <tr>\n",
       "      <th>2</th>\n",
       "      <td>no</td>\n",
       "    </tr>\n",
       "    <tr>\n",
       "      <th>3</th>\n",
       "      <td>no</td>\n",
       "    </tr>\n",
       "    <tr>\n",
       "      <th>4</th>\n",
       "      <td>no</td>\n",
       "    </tr>\n",
       "    <tr>\n",
       "      <th>...</th>\n",
       "      <td>...</td>\n",
       "    </tr>\n",
       "    <tr>\n",
       "      <th>4114</th>\n",
       "      <td>no</td>\n",
       "    </tr>\n",
       "    <tr>\n",
       "      <th>4115</th>\n",
       "      <td>no</td>\n",
       "    </tr>\n",
       "    <tr>\n",
       "      <th>4116</th>\n",
       "      <td>no</td>\n",
       "    </tr>\n",
       "    <tr>\n",
       "      <th>4117</th>\n",
       "      <td>no</td>\n",
       "    </tr>\n",
       "    <tr>\n",
       "      <th>4118</th>\n",
       "      <td>no</td>\n",
       "    </tr>\n",
       "  </tbody>\n",
       "</table>\n",
       "<p>4119 rows × 1 columns</p>\n",
       "</div>"
      ],
      "text/plain": [
       "       y\n",
       "0     no\n",
       "1     no\n",
       "2     no\n",
       "3     no\n",
       "4     no\n",
       "...   ..\n",
       "4114  no\n",
       "4115  no\n",
       "4116  no\n",
       "4117  no\n",
       "4118  no\n",
       "\n",
       "[4119 rows x 1 columns]"
      ]
     },
     "execution_count": 12,
     "metadata": {},
     "output_type": "execute_result"
    }
   ],
   "source": [
    "df_bank[['y']]"
   ]
  },
  {
   "cell_type": "markdown",
   "id": "401b3fd6-386e-46ac-aa98-dce9cbd6cf40",
   "metadata": {},
   "source": [
    "**observation**"
   ]
  },
  {
   "cell_type": "markdown",
   "id": "ce4e9fef-d704-45af-9ff7-2b44c379f570",
   "metadata": {},
   "source": [
    "**The data is related with direct marketing campaigns (phone calls) of a Portuguese banking institution. The classification goal is to predict if the client will subscribe a term deposit (variable y).**"
   ]
  },
  {
   "cell_type": "code",
   "execution_count": 13,
   "id": "f7d27448-d0e9-4ba8-b404-96ef28b4339b",
   "metadata": {},
   "outputs": [],
   "source": [
    "unq_cnt = df_bank['y'].unique()\n",
    "count_list = []\n",
    "for i in unq_cnt:\n",
    "    con=df_bank['y']==i\n",
    "    val=len(df_bank[con])\n",
    "    count_list.append(val)"
   ]
  },
  {
   "cell_type": "code",
   "execution_count": 14,
   "id": "844e8ab1-81d3-4c23-a886-4e65c4c9c272",
   "metadata": {},
   "outputs": [],
   "source": [
    "Y_df = pd.DataFrame(zip(unq_cnt,count_list),columns=['y_data','count'])"
   ]
  },
  {
   "cell_type": "code",
   "execution_count": 15,
   "id": "86383e0a-3465-47d6-bf82-1fbc069dbb86",
   "metadata": {},
   "outputs": [
    {
     "data": {
      "text/html": [
       "<div>\n",
       "<style scoped>\n",
       "    .dataframe tbody tr th:only-of-type {\n",
       "        vertical-align: middle;\n",
       "    }\n",
       "\n",
       "    .dataframe tbody tr th {\n",
       "        vertical-align: top;\n",
       "    }\n",
       "\n",
       "    .dataframe thead th {\n",
       "        text-align: right;\n",
       "    }\n",
       "</style>\n",
       "<table border=\"1\" class=\"dataframe\">\n",
       "  <thead>\n",
       "    <tr style=\"text-align: right;\">\n",
       "      <th></th>\n",
       "      <th>y_data</th>\n",
       "      <th>count</th>\n",
       "    </tr>\n",
       "  </thead>\n",
       "  <tbody>\n",
       "    <tr>\n",
       "      <th>0</th>\n",
       "      <td>no</td>\n",
       "      <td>3668</td>\n",
       "    </tr>\n",
       "    <tr>\n",
       "      <th>1</th>\n",
       "      <td>yes</td>\n",
       "      <td>451</td>\n",
       "    </tr>\n",
       "  </tbody>\n",
       "</table>\n",
       "</div>"
      ],
      "text/plain": [
       "  y_data  count\n",
       "0     no   3668\n",
       "1    yes    451"
      ]
     },
     "execution_count": 15,
     "metadata": {},
     "output_type": "execute_result"
    }
   ],
   "source": [
    "Y_df"
   ]
  },
  {
   "cell_type": "code",
   "execution_count": 16,
   "id": "72f1ff23-9219-4863-98bb-512090ac70df",
   "metadata": {},
   "outputs": [
    {
     "data": {
      "text/plain": [
       "y\n",
       "no     3668\n",
       "yes     451\n",
       "Name: count, dtype: int64"
      ]
     },
     "execution_count": 16,
     "metadata": {},
     "output_type": "execute_result"
    }
   ],
   "source": [
    "df_bank['y'].value_counts()"
   ]
  },
  {
   "cell_type": "code",
   "execution_count": 17,
   "id": "fc986a55-91ab-4f51-84bb-0c82c678e64a",
   "metadata": {},
   "outputs": [
    {
     "data": {
      "image/png": "[encoded data removed]",
      "text/plain": [
       "<Figure size 800x500 with 1 Axes>"
      ]
     },
     "metadata": {},
     "output_type": "display_data"
    }
   ],
   "source": [
    "plt.figure(figsize=(8,5))\n",
    "plt.bar('y_data','count',data=Y_df)\n",
    "plt.title(\"Bar-Chat\")\n",
    "plt.show()\n"
   ]
  },
  {
   "cell_type": "code",
   "execution_count": 20,
   "id": "03309c7d-1376-4b5c-82cd-ef27165345c0",
   "metadata": {},
   "outputs": [
    {
     "data": {
      "text/plain": [
       "(Index(['no', 'yes'], dtype='object', name='y'),\n",
       " array([3668,  451], dtype=int64))"
      ]
     },
     "execution_count": 20,
     "metadata": {},
     "output_type": "execute_result"
    }
   ],
   "source": [
    "cdf = df_bank['y'].value_counts()\n",
    "keys = cdf.keys()\n",
    "values = cdf.values\n",
    "keys,values"
   ]
  },
  {
   "cell_type": "markdown",
   "id": "0b882e39-c93c-447b-a3aa-9906973750b9",
   "metadata": {},
   "source": [
    "**Count-plot**"
   ]
  },
  {
   "cell_type": "code",
   "execution_count": 18,
   "id": "932303b3-6e70-45fe-b967-282170e95270",
   "metadata": {},
   "outputs": [
    {
     "data": {
      "image/png": "[encoded data removed]",
      "text/plain": [
       "<Figure size 640x480 with 1 Axes>"
      ]
     },
     "metadata": {},
     "output_type": "display_data"
    }
   ],
   "source": [
    "cdf = df_bank['y'].value_counts()\n",
    "ax=cdf.plot(kind='bar')\n",
    "ax.bar_label(ax.containers[0])\n",
    "plt.show()  #3668 #451\n"
   ]
  },
  {
   "cell_type": "markdown",
   "id": "73a4c5a7-589d-4eed-ab94-f6388db2fa8e",
   "metadata": {},
   "source": [
    "**pie_chart**"
   ]
  },
  {
   "cell_type": "code",
   "execution_count": 22,
   "id": "87ed5c7e-b884-41eb-b91c-3c14b3e08b9f",
   "metadata": {},
   "outputs": [
    {
     "data": {
      "text/plain": [
       "y\n",
       "no     0.890507\n",
       "yes    0.109493\n",
       "Name: proportion, dtype: float64"
      ]
     },
     "execution_count": 22,
     "metadata": {},
     "output_type": "execute_result"
    }
   ],
   "source": [
    "df_bank['y'].value_counts(normalize=True)"
   ]
  },
  {
   "cell_type": "code",
   "execution_count": 23,
   "id": "dee1d3db-9f5b-4fe9-b8ac-f37e052da1aa",
   "metadata": {},
   "outputs": [
    {
     "data": {
      "image/png": "[encoded data removed]",
      "text/plain": [
       "<Figure size 640x480 with 1 Axes>"
      ]
     },
     "metadata": {},
     "output_type": "display_data"
    }
   ],
   "source": [
    "plt.pie(values,\n",
    "       explode=[0.1,0.1],\n",
    "       labels = keys,\n",
    "       autopct=\"%0.2f%%\",\n",
    "       radius=1)\n",
    "plt.show()"
   ]
  },
  {
   "cell_type": "markdown",
   "id": "eb979353-1bea-4ce8-8b91-d004cac08da4",
   "metadata": {},
   "source": [
    "**observation**\n",
    "\n",
    "- in pie chat yes percent is very low that mean lifting the phone call is very low"
   ]
  },
  {
   "cell_type": "markdown",
   "id": "2fa4f639-f586-43fd-bbe4-02d2b4d56ed6",
   "metadata": {},
   "source": [
    "$Numerical-DataAnalysis$"
   ]
  },
  {
   "cell_type": "code",
   "execution_count": 19,
   "id": "70f4b683-c092-4fc0-885c-097cf8129d3b",
   "metadata": {},
   "outputs": [
    {
     "data": {
      "text/html": [
       "<div>\n",
       "<style scoped>\n",
       "    .dataframe tbody tr th:only-of-type {\n",
       "        vertical-align: middle;\n",
       "    }\n",
       "\n",
       "    .dataframe tbody tr th {\n",
       "        vertical-align: top;\n",
       "    }\n",
       "\n",
       "    .dataframe thead th {\n",
       "        text-align: right;\n",
       "    }\n",
       "</style>\n",
       "<table border=\"1\" class=\"dataframe\">\n",
       "  <thead>\n",
       "    <tr style=\"text-align: right;\">\n",
       "      <th></th>\n",
       "      <th>age_new</th>\n",
       "    </tr>\n",
       "  </thead>\n",
       "  <tbody>\n",
       "    <tr>\n",
       "      <th>count</th>\n",
       "      <td>4119.00</td>\n",
       "    </tr>\n",
       "    <tr>\n",
       "      <th>mean</th>\n",
       "      <td>40.11</td>\n",
       "    </tr>\n",
       "    <tr>\n",
       "      <th>median</th>\n",
       "      <td>38.00</td>\n",
       "    </tr>\n",
       "    <tr>\n",
       "      <th>min</th>\n",
       "      <td>18.00</td>\n",
       "    </tr>\n",
       "    <tr>\n",
       "      <th>max</th>\n",
       "      <td>88.00</td>\n",
       "    </tr>\n",
       "    <tr>\n",
       "      <th>std</th>\n",
       "      <td>10.31</td>\n",
       "    </tr>\n",
       "  </tbody>\n",
       "</table>\n",
       "</div>"
      ],
      "text/plain": [
       "        age_new\n",
       "count   4119.00\n",
       "mean      40.11\n",
       "median    38.00\n",
       "min       18.00\n",
       "max       88.00\n",
       "std       10.31"
      ]
     },
     "execution_count": 19,
     "metadata": {},
     "output_type": "execute_result"
    }
   ],
   "source": [
    "count = round(len(df_bank['age']),2) \n",
    "min  = round(df_bank['age'].min(),2)\n",
    "max = round(df_bank['age'].max(),2)\n",
    "mean = round(df_bank['age'].mean(),2)\n",
    "median = round(df_bank['age'].median(),2)\n",
    "std = round(df_bank['age'].std(),2)\n",
    "list_val = [count,mean,median,min,max,std]\n",
    "index_val = ['count','mean','median','min','max','std']\n",
    "pd.DataFrame(list_val,columns=['age_new'],index=index_val)"
   ]
  },
  {
   "cell_type": "code",
   "execution_count": 23,
   "id": "805a15c6-62c9-459d-a298-492e42176c1b",
   "metadata": {},
   "outputs": [
    {
     "name": "stdout",
     "output_type": "stream",
     "text": [
      "the 25% data is  32.0\n",
      "the 50% data is  38.0\n",
      "the 75% data is  47.0\n"
     ]
    }
   ],
   "source": [
    "W25_p = round(np.percentile(df_bank['age'],25),2)\n",
    "W50_p = round(np.percentile(df_bank['age'],50),2)\n",
    "W75_p = round(np.percentile(df_bank['age'],75),2)\n",
    "\n",
    "print(\"the 25% data is \",W25_p)\n",
    "print(\"the 50% data is \",W50_p)\n",
    "print(\"the 75% data is \",W75_p)"
   ]
  },
  {
   "cell_type": "markdown",
   "id": "b0ae1d8b-a693-4076-80c3-a7b1b840a766",
   "metadata": {},
   "source": [
    "**Emperical Rule(68-95-99.7)**"
   ]
  },
  {
   "cell_type": "markdown",
   "id": "d15579d2-ee77-440f-8f50-d996fd0a534e",
   "metadata": {},
   "source": [
    "**68%**"
   ]
  },
  {
   "cell_type": "code",
   "execution_count": 24,
   "id": "0b3824b0-d5d5-4372-b405-2c1f23cc3981",
   "metadata": {},
   "outputs": [
    {
     "data": {
      "text/plain": [
       "(0, 2800.92)"
      ]
     },
     "execution_count": 24,
     "metadata": {},
     "output_type": "execute_result"
    }
   ],
   "source": [
    "for i in num_cols:\n",
    "    v1 = mean-1*std\n",
    "    v2 = mean+1*std\n",
    "    con1 = df_bank[i]>v1\n",
    "    con2 = df_bank[i]<v2\n",
    "    \n",
    "    count1 = len(df_bank[con1&con2])\n",
    "    \n",
    "    \n",
    "count1 ,68*4119/100"
   ]
  },
  {
   "cell_type": "code",
   "execution_count": null,
   "id": "491ac0cf-b21b-4bcf-b923-ac84d1181b7d",
   "metadata": {},
   "outputs": [],
   "source": []
  },
  {
   "cell_type": "markdown",
   "id": "7d13969b-a843-498e-bcf3-43aa8c2aaa6e",
   "metadata": {},
   "source": [
    "**95%**"
   ]
  },
  {
   "cell_type": "code",
   "execution_count": 88,
   "id": "3abff82b-137e-48df-939a-45883adcc786",
   "metadata": {},
   "outputs": [
    {
     "data": {
      "text/plain": [
       "(3785, 3913.05)"
      ]
     },
     "execution_count": 88,
     "metadata": {},
     "output_type": "execute_result"
    }
   ],
   "source": [
    "for i in num_cols:\n",
    "    v1 = mean-2*std\n",
    "    v2 = mean+2*std\n",
    "    con1 = df_bank[i]>v1\n",
    "    con2 = df_bank[i]<v2\n",
    "    \n",
    "    count2 = len(df_bank[con1&con2])\n",
    "count2 , 95*4119/100  "
   ]
  },
  {
   "cell_type": "markdown",
   "id": "a37a1a53-fb4d-4279-b6f4-796c64160c40",
   "metadata": {},
   "source": [
    "**99.7**"
   ]
  },
  {
   "cell_type": "code",
   "execution_count": 89,
   "id": "804292c6-8380-4eb4-9142-0f1af8bf0ebc",
   "metadata": {},
   "outputs": [
    {
     "data": {
      "text/plain": [
       "(4119, 4106.643)"
      ]
     },
     "execution_count": 89,
     "metadata": {},
     "output_type": "execute_result"
    }
   ],
   "source": [
    "for i in num_cols:\n",
    "    v1 = mean-3*std\n",
    "    v2 = mean+3*std\n",
    "    con1 = df_bank[i]>v1\n",
    "    con2 = df_bank[i]<v2\n",
    "    \n",
    "    count3 = len(df_bank[con1&con2])\n",
    "count3 ,99.7*4119/100  "
   ]
  },
  {
   "cell_type": "code",
   "execution_count": null,
   "id": "99e24ce3-8b61-4deb-8af6-4210a4b9d2a1",
   "metadata": {},
   "outputs": [],
   "source": []
  },
  {
   "cell_type": "code",
   "execution_count": 25,
   "id": "4322c468-99db-472b-9161-2a9c6704fb39",
   "metadata": {},
   "outputs": [
    {
     "data": {
      "text/html": [
       "<div>\n",
       "<style scoped>\n",
       "    .dataframe tbody tr th:only-of-type {\n",
       "        vertical-align: middle;\n",
       "    }\n",
       "\n",
       "    .dataframe tbody tr th {\n",
       "        vertical-align: top;\n",
       "    }\n",
       "\n",
       "    .dataframe thead th {\n",
       "        text-align: right;\n",
       "    }\n",
       "</style>\n",
       "<table border=\"1\" class=\"dataframe\">\n",
       "  <thead>\n",
       "    <tr style=\"text-align: right;\">\n",
       "      <th></th>\n",
       "      <th>age</th>\n",
       "      <th>campaign</th>\n",
       "      <th>pdays</th>\n",
       "      <th>previous</th>\n",
       "      <th>emp.var.rate</th>\n",
       "      <th>cons.price.idx</th>\n",
       "      <th>cons.conf.idx</th>\n",
       "      <th>euribor3m</th>\n",
       "      <th>nr.employed</th>\n",
       "    </tr>\n",
       "  </thead>\n",
       "  <tbody>\n",
       "    <tr>\n",
       "      <th>count</th>\n",
       "      <td>4119.00</td>\n",
       "      <td>4119.00</td>\n",
       "      <td>4119.00</td>\n",
       "      <td>4119.00</td>\n",
       "      <td>4119.00</td>\n",
       "      <td>4119.00</td>\n",
       "      <td>4119.00</td>\n",
       "      <td>4119.00</td>\n",
       "      <td>4119.00</td>\n",
       "    </tr>\n",
       "    <tr>\n",
       "      <th>min</th>\n",
       "      <td>18.00</td>\n",
       "      <td>1.00</td>\n",
       "      <td>0.00</td>\n",
       "      <td>0.00</td>\n",
       "      <td>-3.40</td>\n",
       "      <td>92.20</td>\n",
       "      <td>-50.80</td>\n",
       "      <td>0.64</td>\n",
       "      <td>4963.60</td>\n",
       "    </tr>\n",
       "    <tr>\n",
       "      <th>max</th>\n",
       "      <td>88.00</td>\n",
       "      <td>35.00</td>\n",
       "      <td>999.00</td>\n",
       "      <td>6.00</td>\n",
       "      <td>1.40</td>\n",
       "      <td>94.77</td>\n",
       "      <td>-26.90</td>\n",
       "      <td>5.04</td>\n",
       "      <td>5228.10</td>\n",
       "    </tr>\n",
       "    <tr>\n",
       "      <th>mean</th>\n",
       "      <td>40.11</td>\n",
       "      <td>2.54</td>\n",
       "      <td>960.42</td>\n",
       "      <td>0.19</td>\n",
       "      <td>0.08</td>\n",
       "      <td>93.58</td>\n",
       "      <td>-40.50</td>\n",
       "      <td>3.62</td>\n",
       "      <td>5166.48</td>\n",
       "    </tr>\n",
       "    <tr>\n",
       "      <th>median</th>\n",
       "      <td>38.00</td>\n",
       "      <td>2.00</td>\n",
       "      <td>999.00</td>\n",
       "      <td>0.00</td>\n",
       "      <td>1.10</td>\n",
       "      <td>93.75</td>\n",
       "      <td>-41.80</td>\n",
       "      <td>4.86</td>\n",
       "      <td>5191.00</td>\n",
       "    </tr>\n",
       "    <tr>\n",
       "      <th>std</th>\n",
       "      <td>10.31</td>\n",
       "      <td>2.57</td>\n",
       "      <td>191.92</td>\n",
       "      <td>0.54</td>\n",
       "      <td>1.56</td>\n",
       "      <td>0.58</td>\n",
       "      <td>4.59</td>\n",
       "      <td>1.73</td>\n",
       "      <td>73.67</td>\n",
       "    </tr>\n",
       "    <tr>\n",
       "      <th>25%</th>\n",
       "      <td>32.00</td>\n",
       "      <td>1.00</td>\n",
       "      <td>999.00</td>\n",
       "      <td>0.00</td>\n",
       "      <td>-1.80</td>\n",
       "      <td>93.08</td>\n",
       "      <td>-42.70</td>\n",
       "      <td>1.33</td>\n",
       "      <td>5099.10</td>\n",
       "    </tr>\n",
       "    <tr>\n",
       "      <th>50%</th>\n",
       "      <td>38.00</td>\n",
       "      <td>2.00</td>\n",
       "      <td>999.00</td>\n",
       "      <td>0.00</td>\n",
       "      <td>1.10</td>\n",
       "      <td>93.75</td>\n",
       "      <td>-41.80</td>\n",
       "      <td>4.86</td>\n",
       "      <td>5191.00</td>\n",
       "    </tr>\n",
       "    <tr>\n",
       "      <th>75%</th>\n",
       "      <td>47.00</td>\n",
       "      <td>3.00</td>\n",
       "      <td>999.00</td>\n",
       "      <td>0.00</td>\n",
       "      <td>1.40</td>\n",
       "      <td>93.99</td>\n",
       "      <td>-36.40</td>\n",
       "      <td>4.96</td>\n",
       "      <td>5228.10</td>\n",
       "    </tr>\n",
       "  </tbody>\n",
       "</table>\n",
       "</div>"
      ],
      "text/plain": [
       "            age  campaign    pdays  previous  emp.var.rate  cons.price.idx  \\\n",
       "count   4119.00   4119.00  4119.00   4119.00       4119.00         4119.00   \n",
       "min       18.00      1.00     0.00      0.00         -3.40           92.20   \n",
       "max       88.00     35.00   999.00      6.00          1.40           94.77   \n",
       "mean      40.11      2.54   960.42      0.19          0.08           93.58   \n",
       "median    38.00      2.00   999.00      0.00          1.10           93.75   \n",
       "std       10.31      2.57   191.92      0.54          1.56            0.58   \n",
       "25%       32.00      1.00   999.00      0.00         -1.80           93.08   \n",
       "50%       38.00      2.00   999.00      0.00          1.10           93.75   \n",
       "75%       47.00      3.00   999.00      0.00          1.40           93.99   \n",
       "\n",
       "        cons.conf.idx  euribor3m  nr.employed  \n",
       "count         4119.00    4119.00      4119.00  \n",
       "min            -50.80       0.64      4963.60  \n",
       "max            -26.90       5.04      5228.10  \n",
       "mean           -40.50       3.62      5166.48  \n",
       "median         -41.80       4.86      5191.00  \n",
       "std              4.59       1.73        73.67  \n",
       "25%            -42.70       1.33      5099.10  \n",
       "50%            -41.80       4.86      5191.00  \n",
       "75%            -36.40       4.96      5228.10  "
      ]
     },
     "execution_count": 25,
     "metadata": {},
     "output_type": "execute_result"
    }
   ],
   "source": [
    "l1 = []\n",
    "num_cols = df_bank.select_dtypes(exclude='object').columns\n",
    "for i in num_cols:\n",
    "    count = round(len(df_bank[i]),2) \n",
    "    min  = round(df_bank[i].min(),2)\n",
    "    max = round(df_bank[i].max(),2)\n",
    "    mean = round(df_bank[i].mean(),2)\n",
    "    median = round(df_bank[i].median(),2)\n",
    "    std = round(df_bank[i].std(),2)\n",
    "    W25_p = round(np.quantile(df_bank[i],0.25),2)\n",
    "    W50_p = round(np.quantile(df_bank[i],0.50),2)\n",
    "    W75_p = round(np.quantile(df_bank[i],0.75),2)\n",
    "    l1.append([count,min,max,mean,median,std,W25_p,W50_p,W75_p])\n",
    "index_val = ['count','min','max','mean','median','std','25%','50%','75%']\n",
    "df =pd.DataFrame(l1,columns=index_val,index= num_cols).T\n",
    "df\n",
    "    "
   ]
  },
  {
   "cell_type": "code",
   "execution_count": 30,
   "id": "a1515134-2a77-4904-a48f-3edaa9622660",
   "metadata": {},
   "outputs": [
    {
     "data": {
      "image/png": "[encoded data removed]",
      "text/plain": [
       "<Figure size 640x480 with 1 Axes>"
      ]
     },
     "metadata": {},
     "output_type": "display_data"
    }
   ],
   "source": [
    "plt.hist(df['age'])\n",
    "plt.hist(df['campaign'])\n",
    "plt.hist(df['cons.conf.idx'])\n",
    "plt.show()"
   ]
  },
  {
   "cell_type": "markdown",
   "id": "d291892d-581a-4d0f-ab87-991f1dab8d8e",
   "metadata": {},
   "source": [
    "# Histogram_plot"
   ]
  },
  {
   "cell_type": "code",
   "execution_count": 91,
   "id": "c6d9ed67-68ec-473f-b6d8-1eb0c3cbc694",
   "metadata": {},
   "outputs": [
    {
     "data": {
      "text/plain": [
       "<Axes: xlabel='nr.employed', ylabel='Count'>"
      ]
     },
     "execution_count": 91,
     "metadata": {},
     "output_type": "execute_result"
    },
    {
     "data": {
      "image/png": "[encoded data removed]",
      "text/plain": [
       "<Figure size 640x480 with 9 Axes>"
      ]
     },
     "metadata": {},
     "output_type": "display_data"
    }
   ],
   "source": [
    "fig, axes = plt.subplots(3, 3)\n",
    "sns.histplot(data=df, x='age', ax=axes [0,0])\n",
    "sns.histplot(data=df, x='cons.conf.idx', ax=axes [0,1])\n",
    "sns.histplot(data=df, x='cons.price.idx', ax=axes [0,2])\n",
    "sns.histplot(data=df, x='campaign', ax=axes[1,0])\n",
    "sns.histplot(data=df, x='pdays', ax=axes[1,1])\n",
    "sns.histplot(data=df, x='previous', ax=axes[1,2])\n",
    "sns.histplot(data=df, x='emp.var.rate', ax=axes[2,0])\n",
    "sns.histplot(data=df, x='euribor3m', ax=axes[2,1])\n",
    "sns.histplot(data=df, x='nr.employed', ax=axes[2,2])\n"
   ]
  },
  {
   "cell_type": "markdown",
   "id": "4b4bbdd1-2221-4224-af47-7ec5e772d607",
   "metadata": {},
   "source": [
    "# Distribution-plot"
   ]
  },
  {
   "cell_type": "code",
   "execution_count": 9,
   "id": "26016c90-6a6f-4c70-9df7-2a649189e4b5",
   "metadata": {},
   "outputs": [
    {
     "data": {
      "image/png": "[encoded data removed]",
      "text/plain": [
       "<Figure size 640x480 with 8 Axes>"
      ]
     },
     "metadata": {},
     "output_type": "display_data"
    }
   ],
   "source": [
    "import warnings\n",
    "warnings.filterwarnings(\"ignore\")\n",
    "plt.subplot(8,3,1)\n",
    "sns.distplot(df_bank['age'])\n",
    "plt.subplot(8,3,2)\n",
    "sns.distplot(df_bank['cons.conf.idx'])\n",
    "plt.subplot(8,3,3)\n",
    "sns.distplot(df_bank ['cons.price.idx'])\n",
    "plt.subplot(8,3,4)\n",
    "sns.distplot(df_bank['campaign'])\n",
    "plt.subplot(8,3,5)\n",
    "sns.distplot(df_bank['pdays'])\n",
    "plt.subplot(8,3,6)\n",
    "sns.distplot(df_bank['previous'])\n",
    "plt.subplot(8,3,7)\n",
    "sns.distplot(df_bank['nr.employed'])\n",
    "plt.subplot(8,3,8)\n",
    "sns.distplot(df_bank['euribor3m'])\n",
    "plt.savefig('fname')\n",
    "\n",
    "\n"
   ]
  },
  {
   "cell_type": "markdown",
   "id": "b0967bcd-a886-436f-95a1-f9ef61bb84e6",
   "metadata": {},
   "source": [
    "# finding the outlier"
   ]
  },
  {
   "cell_type": "code",
   "execution_count": 30,
   "id": "894d86ee-b42a-414c-82cc-1c27351a9a52",
   "metadata": {},
   "outputs": [
    {
     "data": {
      "text/plain": [
       "Index(['age', 'campaign', 'pdays', 'previous', 'emp.var.rate',\n",
       "       'cons.price.idx', 'cons.conf.idx', 'euribor3m', 'nr.employed'],\n",
       "      dtype='object')"
      ]
     },
     "execution_count": 30,
     "metadata": {},
     "output_type": "execute_result"
    }
   ],
   "source": [
    "num_cols"
   ]
  },
  {
   "cell_type": "markdown",
   "id": "d28a36b7-9564-46c2-857d-a296b30f631d",
   "metadata": {},
   "source": [
    "**Outlier data**"
   ]
  },
  {
   "cell_type": "code",
   "execution_count": 79,
   "id": "beab0d8c-c4ec-4022-b38d-a6917ae63fae",
   "metadata": {},
   "outputs": [
    {
     "data": {
      "text/html": [
       "<div>\n",
       "<style scoped>\n",
       "    .dataframe tbody tr th:only-of-type {\n",
       "        vertical-align: middle;\n",
       "    }\n",
       "\n",
       "    .dataframe tbody tr th {\n",
       "        vertical-align: top;\n",
       "    }\n",
       "\n",
       "    .dataframe thead th {\n",
       "        text-align: right;\n",
       "    }\n",
       "</style>\n",
       "<table border=\"1\" class=\"dataframe\">\n",
       "  <thead>\n",
       "    <tr style=\"text-align: right;\">\n",
       "      <th></th>\n",
       "      <th>No_of_Outliers</th>\n",
       "      <th>No_of_Non-outliers</th>\n",
       "    </tr>\n",
       "  </thead>\n",
       "  <tbody>\n",
       "    <tr>\n",
       "      <th>age</th>\n",
       "      <td>39</td>\n",
       "      <td>4119</td>\n",
       "    </tr>\n",
       "    <tr>\n",
       "      <th>campaign</th>\n",
       "      <td>235</td>\n",
       "      <td>4119</td>\n",
       "    </tr>\n",
       "    <tr>\n",
       "      <th>pdays</th>\n",
       "      <td>160</td>\n",
       "      <td>160</td>\n",
       "    </tr>\n",
       "    <tr>\n",
       "      <th>previous</th>\n",
       "      <td>596</td>\n",
       "      <td>596</td>\n",
       "    </tr>\n",
       "    <tr>\n",
       "      <th>emp.var.rate</th>\n",
       "      <td>0</td>\n",
       "      <td>4119</td>\n",
       "    </tr>\n",
       "    <tr>\n",
       "      <th>cons.price.idx</th>\n",
       "      <td>0</td>\n",
       "      <td>4119</td>\n",
       "    </tr>\n",
       "    <tr>\n",
       "      <th>cons.conf.idx</th>\n",
       "      <td>43</td>\n",
       "      <td>4119</td>\n",
       "    </tr>\n",
       "    <tr>\n",
       "      <th>euribor3m</th>\n",
       "      <td>0</td>\n",
       "      <td>4119</td>\n",
       "    </tr>\n",
       "    <tr>\n",
       "      <th>nr.employed</th>\n",
       "      <td>0</td>\n",
       "      <td>4119</td>\n",
       "    </tr>\n",
       "  </tbody>\n",
       "</table>\n",
       "</div>"
      ],
      "text/plain": [
       "                No_of_Outliers  No_of_Non-outliers\n",
       "age                         39                4119\n",
       "campaign                   235                4119\n",
       "pdays                      160                 160\n",
       "previous                   596                 596\n",
       "emp.var.rate                 0                4119\n",
       "cons.price.idx               0                4119\n",
       "cons.conf.idx               43                4119\n",
       "euribor3m                    0                4119\n",
       "nr.employed                  0                4119"
      ]
     },
     "execution_count": 79,
     "metadata": {},
     "output_type": "execute_result"
    }
   ],
   "source": [
    "outlier,nonoutlier=[],[]\n",
    "cols=df_bank.select_dtypes(exclude=\"object\").columns\n",
    "\n",
    "for i in cols:\n",
    "    q1=np.percentile(df_bank[i],25)\n",
    "    q3=np.percentile(df_bank[i],75)\n",
    "    lb=q1-1.5*(q3-q1)\n",
    "    ub=q3+1.5*(q3-q1)\n",
    "    con1=df_bank[i]<lb\n",
    "    con2=df_bank[i]>ub\n",
    "    outlier.append(len(df_bank[con1 | con2]))\n",
    "    con3=df_bank[i]>lb\n",
    "    con4=df_bank[i]<ub\n",
    "    nonoutlier.append(len(df_bank[con3 | con4]))\n",
    "pd.DataFrame(zip(outlier,nonoutlier),index=cols,columns=[\"No_of_Outliers\",\"No_of_Non-outliers\"])\n",
    "\n"
   ]
  },
  {
   "cell_type": "markdown",
   "id": "e9053b43-00f4-4d34-a1bf-9ce9ec3242f0",
   "metadata": {},
   "source": [
    "**BOX-PLOT**"
   ]
  },
  {
   "cell_type": "code",
   "execution_count": 92,
   "id": "e2466b75-c2af-423a-8dd6-51d3d531bd03",
   "metadata": {},
   "outputs": [
    {
     "data": {
      "image/png": "[encoded data removed]",
      "text/plain": [
       "<Figure size 1500x500 with 5 Axes>"
      ]
     },
     "metadata": {},
     "output_type": "display_data"
    }
   ],
   "source": [
    "plt.figure(figsize=(15,5))\n",
    "plt.subplot(5,3,1).boxplot(df_bank['age'])\n",
    "plt.subplot(5,3,2).boxplot(df_bank['campaign'])\n",
    "plt.subplot(5,3,3).boxplot(df_bank['pdays'])\n",
    "plt.subplot(5,3,4).boxplot(df['previous'])\n",
    "plt.subplot(5,3,5).boxplot(df_bank['emp.var.rate'])\n",
    "plt.show()\n",
    "                           \n",
    "\n"
   ]
  },
  {
   "cell_type": "markdown",
   "id": "33869791-37ca-4639-8cc8-e7a1186a16ab",
   "metadata": {},
   "source": [
    "**Obeservation**\n",
    "\n",
    "1.Bank deposit product subscribed by 451 people out of 4119\n",
    "\n",
    "2.Bank desposit product not subscribed by 3668 people out of 4119\n",
    "\n",
    "3.Not subscibed count is greater then the subscription so this dataset is Imbalaced data "
   ]
  },
  {
   "cell_type": "code",
   "execution_count": 112,
   "id": "43e42e19-d8a7-4330-9e80-74c324149227",
   "metadata": {},
   "outputs": [
    {
     "data": {
      "text/plain": [
       "Index(['age', 'job', 'marital', 'education', 'default', 'housing', 'loan',\n",
       "       'contact', 'month', 'day_of_week', 'campaign', 'pdays', 'previous',\n",
       "       'poutcome', 'emp.var.rate', 'cons.price.idx', 'cons.conf.idx',\n",
       "       'euribor3m', 'nr.employed', 'y'],\n",
       "      dtype='object')"
      ]
     },
     "execution_count": 112,
     "metadata": {},
     "output_type": "execute_result"
    }
   ],
   "source": [
    "df_bank.columns"
   ]
  },
  {
   "cell_type": "code",
   "execution_count": 113,
   "id": "6ef530f8-6d7a-4cdf-8cd7-289879ed328b",
   "metadata": {},
   "outputs": [
    {
     "data": {
      "text/plain": [
       "Index(['age', 'campaign', 'pdays', 'previous', 'emp.var.rate',\n",
       "       'cons.price.idx', 'cons.conf.idx', 'euribor3m', 'nr.employed'],\n",
       "      dtype='object')"
      ]
     },
     "execution_count": 113,
     "metadata": {},
     "output_type": "execute_result"
    }
   ],
   "source": [
    "num_cols"
   ]
  },
  {
   "cell_type": "code",
   "execution_count": 114,
   "id": "49d0470e-b99e-4cd9-919b-a1b8ec91f42d",
   "metadata": {},
   "outputs": [
    {
     "data": {
      "text/plain": [
       "Index(['job', 'marital', 'education', 'default', 'housing', 'loan', 'contact',\n",
       "       'month', 'day_of_week', 'poutcome', 'y'],\n",
       "      dtype='object')"
      ]
     },
     "execution_count": 114,
     "metadata": {},
     "output_type": "execute_result"
    }
   ],
   "source": [
    "cate_cols"
   ]
  },
  {
   "cell_type": "code",
   "execution_count": 115,
   "id": "2e83262f-02fe-4605-97d5-2f89cda1b0d5",
   "metadata": {},
   "outputs": [
    {
     "data": {
      "text/plain": [
       "job\n",
       "admin.           1012\n",
       "blue-collar       884\n",
       "technician        691\n",
       "services          393\n",
       "management        324\n",
       "retired           166\n",
       "self-employed     159\n",
       "entrepreneur      148\n",
       "unemployed        111\n",
       "housemaid         110\n",
       "student            82\n",
       "unknown            39\n",
       "Name: count, dtype: int64"
      ]
     },
     "execution_count": 115,
     "metadata": {},
     "output_type": "execute_result"
    }
   ],
   "source": [
    "df_bank['job'].value_counts()"
   ]
  },
  {
   "cell_type": "code",
   "execution_count": 116,
   "id": "7fe8222f-2fb1-4ed8-b20d-e87d414a6971",
   "metadata": {},
   "outputs": [
    {
     "data": {
      "text/plain": [
       "y\n",
       "no     3668\n",
       "yes     451\n",
       "Name: count, dtype: int64"
      ]
     },
     "execution_count": 116,
     "metadata": {},
     "output_type": "execute_result"
    }
   ],
   "source": [
    "df_bank['y'].value_counts()"
   ]
  },
  {
   "cell_type": "markdown",
   "id": "882eb04f-c8c3-47b5-b0ab-a9b50504a178",
   "metadata": {},
   "source": [
    "# correlation Plot"
   ]
  },
  {
   "cell_type": "code",
   "execution_count": 118,
   "id": "cff0d0ae-977d-4167-8c66-fea73b0fe35f",
   "metadata": {},
   "outputs": [
    {
     "data": {
      "text/plain": [
       "<Axes: >"
      ]
     },
     "execution_count": 118,
     "metadata": {},
     "output_type": "execute_result"
    },
    {
     "data": {
      "image/png": "[encoded data removed]",
      "text/plain": [
       "<Figure size 1000x500 with 2 Axes>"
      ]
     },
     "metadata": {},
     "output_type": "display_data"
    }
   ],
   "source": [
    "plt.figure(figsize=(10,5))\n",
    "c = df_bank.corr(numeric_only=True)\n",
    "sns.heatmap(c,cmap=\"BrBG\",annot=True)"
   ]
  },
  {
   "cell_type": "markdown",
   "id": "6038ca63-c505-4b78-8c8f-36a1fbb9bd13",
   "metadata": {},
   "source": [
    "# stradardization of dataset"
   ]
  },
  {
   "cell_type": "code",
   "execution_count": 122,
   "id": "4033754a-9ba0-403d-96a2-b4415d2c1c6d",
   "metadata": {},
   "outputs": [
    {
     "data": {
      "text/html": [
       "<div>\n",
       "<style scoped>\n",
       "    .dataframe tbody tr th:only-of-type {\n",
       "        vertical-align: middle;\n",
       "    }\n",
       "\n",
       "    .dataframe tbody tr th {\n",
       "        vertical-align: top;\n",
       "    }\n",
       "\n",
       "    .dataframe thead th {\n",
       "        text-align: right;\n",
       "    }\n",
       "</style>\n",
       "<table border=\"1\" class=\"dataframe\">\n",
       "  <thead>\n",
       "    <tr style=\"text-align: right;\">\n",
       "      <th></th>\n",
       "      <th>age</th>\n",
       "      <th>campaign</th>\n",
       "      <th>pdays</th>\n",
       "      <th>previous</th>\n",
       "      <th>emp.var.rate</th>\n",
       "      <th>cons.price.idx</th>\n",
       "      <th>cons.conf.idx</th>\n",
       "      <th>euribor3m</th>\n",
       "      <th>nr.employed</th>\n",
       "    </tr>\n",
       "  </thead>\n",
       "  <tbody>\n",
       "    <tr>\n",
       "      <th>0</th>\n",
       "      <td>-0.980752</td>\n",
       "      <td>-0.209228</td>\n",
       "      <td>0.201031</td>\n",
       "      <td>-0.351356</td>\n",
       "      <td>-1.206054</td>\n",
       "      <td>-1.185448</td>\n",
       "      <td>-1.240939</td>\n",
       "      <td>-1.331707</td>\n",
       "      <td>-0.914779</td>\n",
       "    </tr>\n",
       "    <tr>\n",
       "      <th>1</th>\n",
       "      <td>-0.107991</td>\n",
       "      <td>0.569634</td>\n",
       "      <td>0.201031</td>\n",
       "      <td>-0.351356</td>\n",
       "      <td>0.649441</td>\n",
       "      <td>0.715193</td>\n",
       "      <td>0.892269</td>\n",
       "      <td>0.711698</td>\n",
       "      <td>0.332862</td>\n",
       "    </tr>\n",
       "    <tr>\n",
       "      <th>2</th>\n",
       "      <td>-1.465619</td>\n",
       "      <td>-0.598660</td>\n",
       "      <td>0.201031</td>\n",
       "      <td>-0.351356</td>\n",
       "      <td>0.841389</td>\n",
       "      <td>1.528273</td>\n",
       "      <td>-0.283172</td>\n",
       "      <td>0.773427</td>\n",
       "      <td>0.836535</td>\n",
       "    </tr>\n",
       "    <tr>\n",
       "      <th>3</th>\n",
       "      <td>-0.204965</td>\n",
       "      <td>0.180203</td>\n",
       "      <td>0.201031</td>\n",
       "      <td>-0.351356</td>\n",
       "      <td>0.841389</td>\n",
       "      <td>1.528273</td>\n",
       "      <td>-0.283172</td>\n",
       "      <td>0.771697</td>\n",
       "      <td>0.836535</td>\n",
       "    </tr>\n",
       "    <tr>\n",
       "      <th>4</th>\n",
       "      <td>0.667795</td>\n",
       "      <td>-0.598660</td>\n",
       "      <td>0.201031</td>\n",
       "      <td>-0.351356</td>\n",
       "      <td>-0.118350</td>\n",
       "      <td>-0.655478</td>\n",
       "      <td>-0.326707</td>\n",
       "      <td>0.328632</td>\n",
       "      <td>0.398028</td>\n",
       "    </tr>\n",
       "  </tbody>\n",
       "</table>\n",
       "</div>"
      ],
      "text/plain": [
       "        age  campaign     pdays  previous  emp.var.rate  cons.price.idx  \\\n",
       "0 -0.980752 -0.209228  0.201031 -0.351356     -1.206054       -1.185448   \n",
       "1 -0.107991  0.569634  0.201031 -0.351356      0.649441        0.715193   \n",
       "2 -1.465619 -0.598660  0.201031 -0.351356      0.841389        1.528273   \n",
       "3 -0.204965  0.180203  0.201031 -0.351356      0.841389        1.528273   \n",
       "4  0.667795 -0.598660  0.201031 -0.351356     -0.118350       -0.655478   \n",
       "\n",
       "   cons.conf.idx  euribor3m  nr.employed  \n",
       "0      -1.240939  -1.331707    -0.914779  \n",
       "1       0.892269   0.711698     0.332862  \n",
       "2      -0.283172   0.773427     0.836535  \n",
       "3      -0.283172   0.771697     0.836535  \n",
       "4      -0.326707   0.328632     0.398028  "
      ]
     },
     "execution_count": 122,
     "metadata": {},
     "output_type": "execute_result"
    }
   ],
   "source": [
    "from sklearn.preprocessing import StandardScaler\n",
    "df_bank_num = df_bank.copy()\n",
    "scaler = StandardScaler()\n",
    "num_cols = ['age','campaign','pdays','previous','emp.var.rate','cons.price.idx','cons.conf.idx','euribor3m','nr.employed']\n",
    "df_bank_num[num_cols] = scaler.fit_transform(df_bank[num_cols])\n",
    "df_bank_num = df_bank_num.drop(['job', 'marital', 'education', 'default', 'housing', 'loan', 'contact','month', 'day_of_week', 'poutcome', 'y'],axis=1)\n",
    "df_bank_num.head()"
   ]
  },
  {
   "cell_type": "markdown",
   "id": "73d39e3e-5518-424d-a46c-0261eec0b2ec",
   "metadata": {},
   "source": [
    "# Encode Categorical Features"
   ]
  },
  {
   "cell_type": "code",
   "execution_count": 131,
   "id": "683f0220-3c7c-48de-8b6e-a51ca9234416",
   "metadata": {},
   "outputs": [
    {
     "data": {
      "text/plain": [
       "Index(['job', 'marital', 'education', 'default', 'housing', 'loan', 'contact',\n",
       "       'month', 'day_of_week', 'poutcome', 'y'],\n",
       "      dtype='object')"
      ]
     },
     "execution_count": 131,
     "metadata": {},
     "output_type": "execute_result"
    }
   ],
   "source": [
    "cate_cols"
   ]
  },
  {
   "cell_type": "code",
   "execution_count": 130,
   "id": "ee16ecd0-783b-4dd8-8270-ac9a80594b2f",
   "metadata": {},
   "outputs": [
    {
     "data": {
      "text/html": [
       "<div>\n",
       "<style scoped>\n",
       "    .dataframe tbody tr th:only-of-type {\n",
       "        vertical-align: middle;\n",
       "    }\n",
       "\n",
       "    .dataframe tbody tr th {\n",
       "        vertical-align: top;\n",
       "    }\n",
       "\n",
       "    .dataframe thead th {\n",
       "        text-align: right;\n",
       "    }\n",
       "</style>\n",
       "<table border=\"1\" class=\"dataframe\">\n",
       "  <thead>\n",
       "    <tr style=\"text-align: right;\">\n",
       "      <th></th>\n",
       "      <th>y</th>\n",
       "    </tr>\n",
       "  </thead>\n",
       "  <tbody>\n",
       "    <tr>\n",
       "      <th>0</th>\n",
       "      <td>0</td>\n",
       "    </tr>\n",
       "    <tr>\n",
       "      <th>1</th>\n",
       "      <td>0</td>\n",
       "    </tr>\n",
       "    <tr>\n",
       "      <th>2</th>\n",
       "      <td>0</td>\n",
       "    </tr>\n",
       "    <tr>\n",
       "      <th>3</th>\n",
       "      <td>0</td>\n",
       "    </tr>\n",
       "    <tr>\n",
       "      <th>4</th>\n",
       "      <td>0</td>\n",
       "    </tr>\n",
       "    <tr>\n",
       "      <th>5</th>\n",
       "      <td>0</td>\n",
       "    </tr>\n",
       "    <tr>\n",
       "      <th>6</th>\n",
       "      <td>0</td>\n",
       "    </tr>\n",
       "    <tr>\n",
       "      <th>7</th>\n",
       "      <td>0</td>\n",
       "    </tr>\n",
       "    <tr>\n",
       "      <th>8</th>\n",
       "      <td>0</td>\n",
       "    </tr>\n",
       "    <tr>\n",
       "      <th>9</th>\n",
       "      <td>0</td>\n",
       "    </tr>\n",
       "    <tr>\n",
       "      <th>10</th>\n",
       "      <td>0</td>\n",
       "    </tr>\n",
       "    <tr>\n",
       "      <th>11</th>\n",
       "      <td>0</td>\n",
       "    </tr>\n",
       "    <tr>\n",
       "      <th>12</th>\n",
       "      <td>0</td>\n",
       "    </tr>\n",
       "    <tr>\n",
       "      <th>13</th>\n",
       "      <td>0</td>\n",
       "    </tr>\n",
       "    <tr>\n",
       "      <th>14</th>\n",
       "      <td>0</td>\n",
       "    </tr>\n",
       "  </tbody>\n",
       "</table>\n",
       "</div>"
      ],
      "text/plain": [
       "    y\n",
       "0   0\n",
       "1   0\n",
       "2   0\n",
       "3   0\n",
       "4   0\n",
       "5   0\n",
       "6   0\n",
       "7   0\n",
       "8   0\n",
       "9   0\n",
       "10  0\n",
       "11  0\n",
       "12  0\n",
       "13  0\n",
       "14  0"
      ]
     },
     "execution_count": 130,
     "metadata": {},
     "output_type": "execute_result"
    }
   ],
   "source": [
    "import pandas as pd\n",
    "from sklearn.preprocessing import OneHotEncoder\n",
    "encoder =  OneHotEncoder(sparse=False)\n",
    "df_bank_targ = df_bank.copy()\n",
    "df_bank_targ = df_bank_targ.drop(['age', 'job', 'marital', 'education', 'default', 'housing', 'loan', 'contact', 'month', 'day_of_week', 'campaign', 'pdays', 'previous', 'poutcome', 'emp.var.rate', 'cons.price.idx', 'cons.conf.idx', 'euribor3m', 'nr.employed'], axis=1)\n",
    "df_bank_targ['y'] = df_bank_targ['y'].apply(lambda x: 1 if x == 'yes' else 0)\n",
    "df_bank_targ.head(15)\n"
   ]
  },
  {
   "cell_type": "code",
   "execution_count": 135,
   "id": "e4b4b369-170b-4fe9-9ee7-cfcf52ae5ce0",
   "metadata": {},
   "outputs": [
    {
     "name": "stdout",
     "output_type": "stream",
     "text": [
      "shape of dataframe: (4119, 63)\n"
     ]
    },
    {
     "data": {
      "text/html": [
       "<div>\n",
       "<style scoped>\n",
       "    .dataframe tbody tr th:only-of-type {\n",
       "        vertical-align: middle;\n",
       "    }\n",
       "\n",
       "    .dataframe tbody tr th {\n",
       "        vertical-align: top;\n",
       "    }\n",
       "\n",
       "    .dataframe thead th {\n",
       "        text-align: right;\n",
       "    }\n",
       "</style>\n",
       "<table border=\"1\" class=\"dataframe\">\n",
       "  <thead>\n",
       "    <tr style=\"text-align: right;\">\n",
       "      <th></th>\n",
       "      <th>age</th>\n",
       "      <th>campaign</th>\n",
       "      <th>pdays</th>\n",
       "      <th>previous</th>\n",
       "      <th>emp.var.rate</th>\n",
       "      <th>cons.price.idx</th>\n",
       "      <th>cons.conf.idx</th>\n",
       "      <th>euribor3m</th>\n",
       "      <th>nr.employed</th>\n",
       "      <th>job_admin.</th>\n",
       "      <th>...</th>\n",
       "      <th>month_sep</th>\n",
       "      <th>day_of_week_fri</th>\n",
       "      <th>day_of_week_mon</th>\n",
       "      <th>day_of_week_thu</th>\n",
       "      <th>day_of_week_tue</th>\n",
       "      <th>day_of_week_wed</th>\n",
       "      <th>poutcome_failure</th>\n",
       "      <th>poutcome_nonexistent</th>\n",
       "      <th>poutcome_success</th>\n",
       "      <th>y</th>\n",
       "    </tr>\n",
       "  </thead>\n",
       "  <tbody>\n",
       "    <tr>\n",
       "      <th>0</th>\n",
       "      <td>-0.980752</td>\n",
       "      <td>-0.209228</td>\n",
       "      <td>0.201031</td>\n",
       "      <td>-0.351356</td>\n",
       "      <td>-1.206054</td>\n",
       "      <td>-1.185448</td>\n",
       "      <td>-1.240939</td>\n",
       "      <td>-1.331707</td>\n",
       "      <td>-0.914779</td>\n",
       "      <td>0.0</td>\n",
       "      <td>...</td>\n",
       "      <td>0.0</td>\n",
       "      <td>1.0</td>\n",
       "      <td>0.0</td>\n",
       "      <td>0.0</td>\n",
       "      <td>0.0</td>\n",
       "      <td>0.0</td>\n",
       "      <td>0.0</td>\n",
       "      <td>1.0</td>\n",
       "      <td>0.0</td>\n",
       "      <td>0</td>\n",
       "    </tr>\n",
       "    <tr>\n",
       "      <th>1</th>\n",
       "      <td>-0.107991</td>\n",
       "      <td>0.569634</td>\n",
       "      <td>0.201031</td>\n",
       "      <td>-0.351356</td>\n",
       "      <td>0.649441</td>\n",
       "      <td>0.715193</td>\n",
       "      <td>0.892269</td>\n",
       "      <td>0.711698</td>\n",
       "      <td>0.332862</td>\n",
       "      <td>0.0</td>\n",
       "      <td>...</td>\n",
       "      <td>0.0</td>\n",
       "      <td>1.0</td>\n",
       "      <td>0.0</td>\n",
       "      <td>0.0</td>\n",
       "      <td>0.0</td>\n",
       "      <td>0.0</td>\n",
       "      <td>0.0</td>\n",
       "      <td>1.0</td>\n",
       "      <td>0.0</td>\n",
       "      <td>0</td>\n",
       "    </tr>\n",
       "    <tr>\n",
       "      <th>2</th>\n",
       "      <td>-1.465619</td>\n",
       "      <td>-0.598660</td>\n",
       "      <td>0.201031</td>\n",
       "      <td>-0.351356</td>\n",
       "      <td>0.841389</td>\n",
       "      <td>1.528273</td>\n",
       "      <td>-0.283172</td>\n",
       "      <td>0.773427</td>\n",
       "      <td>0.836535</td>\n",
       "      <td>0.0</td>\n",
       "      <td>...</td>\n",
       "      <td>0.0</td>\n",
       "      <td>0.0</td>\n",
       "      <td>0.0</td>\n",
       "      <td>0.0</td>\n",
       "      <td>0.0</td>\n",
       "      <td>1.0</td>\n",
       "      <td>0.0</td>\n",
       "      <td>1.0</td>\n",
       "      <td>0.0</td>\n",
       "      <td>0</td>\n",
       "    </tr>\n",
       "    <tr>\n",
       "      <th>3</th>\n",
       "      <td>-0.204965</td>\n",
       "      <td>0.180203</td>\n",
       "      <td>0.201031</td>\n",
       "      <td>-0.351356</td>\n",
       "      <td>0.841389</td>\n",
       "      <td>1.528273</td>\n",
       "      <td>-0.283172</td>\n",
       "      <td>0.771697</td>\n",
       "      <td>0.836535</td>\n",
       "      <td>0.0</td>\n",
       "      <td>...</td>\n",
       "      <td>0.0</td>\n",
       "      <td>1.0</td>\n",
       "      <td>0.0</td>\n",
       "      <td>0.0</td>\n",
       "      <td>0.0</td>\n",
       "      <td>0.0</td>\n",
       "      <td>0.0</td>\n",
       "      <td>1.0</td>\n",
       "      <td>0.0</td>\n",
       "      <td>0</td>\n",
       "    </tr>\n",
       "    <tr>\n",
       "      <th>4</th>\n",
       "      <td>0.667795</td>\n",
       "      <td>-0.598660</td>\n",
       "      <td>0.201031</td>\n",
       "      <td>-0.351356</td>\n",
       "      <td>-0.118350</td>\n",
       "      <td>-0.655478</td>\n",
       "      <td>-0.326707</td>\n",
       "      <td>0.328632</td>\n",
       "      <td>0.398028</td>\n",
       "      <td>1.0</td>\n",
       "      <td>...</td>\n",
       "      <td>0.0</td>\n",
       "      <td>0.0</td>\n",
       "      <td>1.0</td>\n",
       "      <td>0.0</td>\n",
       "      <td>0.0</td>\n",
       "      <td>0.0</td>\n",
       "      <td>0.0</td>\n",
       "      <td>1.0</td>\n",
       "      <td>0.0</td>\n",
       "      <td>0</td>\n",
       "    </tr>\n",
       "  </tbody>\n",
       "</table>\n",
       "<p>5 rows × 63 columns</p>\n",
       "</div>"
      ],
      "text/plain": [
       "        age  campaign     pdays  previous  emp.var.rate  cons.price.idx  \\\n",
       "0 -0.980752 -0.209228  0.201031 -0.351356     -1.206054       -1.185448   \n",
       "1 -0.107991  0.569634  0.201031 -0.351356      0.649441        0.715193   \n",
       "2 -1.465619 -0.598660  0.201031 -0.351356      0.841389        1.528273   \n",
       "3 -0.204965  0.180203  0.201031 -0.351356      0.841389        1.528273   \n",
       "4  0.667795 -0.598660  0.201031 -0.351356     -0.118350       -0.655478   \n",
       "\n",
       "   cons.conf.idx  euribor3m  nr.employed  job_admin.  ...  month_sep  \\\n",
       "0      -1.240939  -1.331707    -0.914779         0.0  ...        0.0   \n",
       "1       0.892269   0.711698     0.332862         0.0  ...        0.0   \n",
       "2      -0.283172   0.773427     0.836535         0.0  ...        0.0   \n",
       "3      -0.283172   0.771697     0.836535         0.0  ...        0.0   \n",
       "4      -0.326707   0.328632     0.398028         1.0  ...        0.0   \n",
       "\n",
       "   day_of_week_fri  day_of_week_mon  day_of_week_thu  day_of_week_tue  \\\n",
       "0              1.0              0.0              0.0              0.0   \n",
       "1              1.0              0.0              0.0              0.0   \n",
       "2              0.0              0.0              0.0              0.0   \n",
       "3              1.0              0.0              0.0              0.0   \n",
       "4              0.0              1.0              0.0              0.0   \n",
       "\n",
       "   day_of_week_wed  poutcome_failure  poutcome_nonexistent  poutcome_success  \\\n",
       "0              0.0               0.0                   1.0               0.0   \n",
       "1              0.0               0.0                   1.0               0.0   \n",
       "2              1.0               0.0                   1.0               0.0   \n",
       "3              0.0               0.0                   1.0               0.0   \n",
       "4              0.0               0.0                   1.0               0.0   \n",
       "\n",
       "   y  \n",
       "0  0  \n",
       "1  0  \n",
       "2  0  \n",
       "3  0  \n",
       "4  0  \n",
       "\n",
       "[5 rows x 63 columns]"
      ]
     },
     "execution_count": 135,
     "metadata": {},
     "output_type": "execute_result"
    }
   ],
   "source": [
    "import pandas as pd\n",
    "from sklearn.preprocessing import OneHotEncoder\n",
    "encoder =  OneHotEncoder(sparse=False)\n",
    "cate_cols = ['job', 'marital', 'education', 'default', 'housing', 'loan', 'contact','month', 'day_of_week', 'poutcome',]\n",
    "df_bank_catg = df_bank.copy()\n",
    "df_bank_catg.head()\n",
    "df_encoder = pd.DataFrame(encoder.fit_transform(df_bank_catg[cate_cols]))\n",
    "df_encoder.columns = encoder.get_feature_names_out(cate_cols)\n",
    "df_bank_catg = df_bank_catg.drop(cate_cols,axis=1)\n",
    "df_bank_catg = pd.concat([df_bank_num,df_encoder,df_bank_targ],axis=1)\n",
    "print('shape of dataframe:',df_bank_catg.shape)\n",
    "df_bank_catg.head()\n"
   ]
  },
  {
   "cell_type": "code",
   "execution_count": 162,
   "id": "f7c696e8-7606-42ae-98fe-544edd511dc2",
   "metadata": {},
   "outputs": [],
   "source": [
    "df_bank = pd.read_csv(r\"bank-additional.csv\",sep=\";\")"
   ]
  },
  {
   "cell_type": "code",
   "execution_count": 167,
   "id": "649b867f-e9af-4a0b-9ad6-a046cfe4b80d",
   "metadata": {},
   "outputs": [
    {
     "data": {
      "text/plain": [
       "['age',\n",
       " 'campaign',\n",
       " 'pdays',\n",
       " 'previous',\n",
       " 'emp.var.rate',\n",
       " 'cons.price.idx',\n",
       " 'cons.conf.idx',\n",
       " 'euribor3m',\n",
       " 'nr.employed']"
      ]
     },
     "execution_count": 167,
     "metadata": {},
     "output_type": "execute_result"
    }
   ],
   "source": [
    "num_cols"
   ]
  },
  {
   "cell_type": "code",
   "execution_count": 93,
   "id": "9e07f69d-452b-4edf-8068-b046e9f88e84",
   "metadata": {},
   "outputs": [
    {
     "data": {
      "text/plain": [
       "Index(['job', 'marital', 'education', 'default', 'housing', 'loan', 'contact',\n",
       "       'month', 'day_of_week', 'poutcome', 'y'],\n",
       "      dtype='object')"
      ]
     },
     "execution_count": 93,
     "metadata": {},
     "output_type": "execute_result"
    }
   ],
   "source": [
    "cate_cols"
   ]
  },
  {
   "cell_type": "code",
   "execution_count": null,
   "id": "3e7f8599-b3b0-4cfa-81db-b3208af480e4",
   "metadata": {},
   "outputs": [],
   "source": []
  },
  {
   "cell_type": "code",
   "execution_count": null,
   "id": "e28e130c-a2f8-4f3e-b011-a4ea4fbedee4",
   "metadata": {},
   "outputs": [],
   "source": []
  },
  {
   "cell_type": "code",
   "execution_count": null,
   "id": "6fb859d3-0f66-456f-886d-784fc67192fe",
   "metadata": {},
   "outputs": [],
   "source": []
  },
  {
   "cell_type": "code",
   "execution_count": null,
   "id": "2959a1d6-efc8-440c-a748-48a185a7319d",
   "metadata": {},
   "outputs": [],
   "source": []
  }
 ],
 "metadata": {
  "kernelspec": {
   "display_name": "Python 3 (ipykernel)",
   "language": "python",
   "name": "python3"
  },
  "language_info": {
   "codemirror_mode": {
    "name": "ipython",
    "version": 3
   },
   "file_extension": ".py",
   "mimetype": "text/x-python",
   "name": "python",
   "nbconvert_exporter": "python",
   "pygments_lexer": "ipython3",
   "version": "3.11.7"
  }
 },
 "nbformat": 4,
 "nbformat_minor": 5
}
