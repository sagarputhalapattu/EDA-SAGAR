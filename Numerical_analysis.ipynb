{
 "cells": [
  {
   "cell_type": "code",
   "execution_count": 1,
   "id": "251171e3-768a-4075-8b6b-dc574c26cc62",
   "metadata": {},
   "outputs": [],
   "source": [
    "import pandas as pd\n",
    "import numpy as np\n",
    "import matplotlib.pyplot as plt\n",
    "import seaborn as sns\n"
   ]
  },
  {
   "cell_type": "code",
   "execution_count": 2,
   "id": "9e6ed1b2-6e74-49fb-bd0c-921deb0d7eca",
   "metadata": {},
   "outputs": [
    {
     "data": {
      "text/html": [
       "<div>\n",
       "<style scoped>\n",
       "    .dataframe tbody tr th:only-of-type {\n",
       "        vertical-align: middle;\n",
       "    }\n",
       "\n",
       "    .dataframe tbody tr th {\n",
       "        vertical-align: top;\n",
       "    }\n",
       "\n",
       "    .dataframe thead th {\n",
       "        text-align: right;\n",
       "    }\n",
       "</style>\n",
       "<table border=\"1\" class=\"dataframe\">\n",
       "  <thead>\n",
       "    <tr style=\"text-align: right;\">\n",
       "      <th></th>\n",
       "      <th>case_id</th>\n",
       "      <th>continent</th>\n",
       "      <th>education_of_employee</th>\n",
       "      <th>has_job_experience</th>\n",
       "      <th>requires_job_training</th>\n",
       "      <th>no_of_employees</th>\n",
       "      <th>yr_of_estab</th>\n",
       "      <th>region_of_employment</th>\n",
       "      <th>prevailing_wage</th>\n",
       "      <th>unit_of_wage</th>\n",
       "      <th>full_time_position</th>\n",
       "      <th>case_status</th>\n",
       "    </tr>\n",
       "  </thead>\n",
       "  <tbody>\n",
       "    <tr>\n",
       "      <th>0</th>\n",
       "      <td>EZYV01</td>\n",
       "      <td>Asia</td>\n",
       "      <td>High School</td>\n",
       "      <td>N</td>\n",
       "      <td>N</td>\n",
       "      <td>14513</td>\n",
       "      <td>2007</td>\n",
       "      <td>West</td>\n",
       "      <td>592.2029</td>\n",
       "      <td>Hour</td>\n",
       "      <td>Y</td>\n",
       "      <td>Denied</td>\n",
       "    </tr>\n",
       "    <tr>\n",
       "      <th>1</th>\n",
       "      <td>EZYV02</td>\n",
       "      <td>Asia</td>\n",
       "      <td>Master's</td>\n",
       "      <td>Y</td>\n",
       "      <td>N</td>\n",
       "      <td>2412</td>\n",
       "      <td>2002</td>\n",
       "      <td>Northeast</td>\n",
       "      <td>83425.6500</td>\n",
       "      <td>Year</td>\n",
       "      <td>Y</td>\n",
       "      <td>Certified</td>\n",
       "    </tr>\n",
       "  </tbody>\n",
       "</table>\n",
       "</div>"
      ],
      "text/plain": [
       "  case_id continent education_of_employee has_job_experience  \\\n",
       "0  EZYV01      Asia           High School                  N   \n",
       "1  EZYV02      Asia              Master's                  Y   \n",
       "\n",
       "  requires_job_training  no_of_employees  yr_of_estab region_of_employment  \\\n",
       "0                     N            14513         2007                 West   \n",
       "1                     N             2412         2002            Northeast   \n",
       "\n",
       "   prevailing_wage unit_of_wage full_time_position case_status  \n",
       "0         592.2029         Hour                  Y      Denied  \n",
       "1       83425.6500         Year                  Y   Certified  "
      ]
     },
     "execution_count": 2,
     "metadata": {},
     "output_type": "execute_result"
    }
   ],
   "source": [
    "visa_df = pd.read_csv(\"Visadataset.csv\")\n",
    "visa_df.head(2)"
   ]
  },
  {
   "cell_type": "code",
   "execution_count": 3,
   "id": "916f939d-a16f-45ee-b202-5e994f04f799",
   "metadata": {},
   "outputs": [
    {
     "data": {
      "text/plain": [
       "Index(['no_of_employees', 'yr_of_estab', 'prevailing_wage'], dtype='object')"
      ]
     },
     "execution_count": 3,
     "metadata": {},
     "output_type": "execute_result"
    }
   ],
   "source": [
    "visa_df.select_dtypes(exclude='object').columns\n"
   ]
  },
  {
   "cell_type": "markdown",
   "id": "5b028410-16f2-4428-a016-223996f7bf53",
   "metadata": {},
   "source": [
    "**prevailing_wage**\n",
    "\n",
    "- len\r\n",
    "- \n",
    "max \n",
    "- \r\n",
    "min\n",
    "\n",
    "-  \r\n",
    "mea\n",
    "- n \r\n",
    "medi\n",
    "- an \r\n",
    "\n",
    "- std \r\n",
    "- \n",
    "75% \n",
    "- \r\n",
    "50% \r\n",
    "25%\r\n"
   ]
  },
  {
   "cell_type": "markdown",
   "id": "afe10d8c-95d7-4db3-a0ba-f9a49ea540e0",
   "metadata": {},
   "source": [
    "**count**"
   ]
  },
  {
   "cell_type": "code",
   "execution_count": 4,
   "id": "b8660962-3338-4703-a9be-2d110adac0ae",
   "metadata": {},
   "outputs": [
    {
     "data": {
      "text/plain": [
       "25480"
      ]
     },
     "execution_count": 4,
     "metadata": {},
     "output_type": "execute_result"
    }
   ],
   "source": [
    "len(visa_df['prevailing_wage'])"
   ]
  },
  {
   "cell_type": "markdown",
   "id": "47705973-31d4-4f93-8d1e-eb2f41ca929c",
   "metadata": {},
   "source": [
    "**max**"
   ]
  },
  {
   "cell_type": "code",
   "execution_count": null,
   "id": "5e3c49bc-550d-47b5-ab8f-4a0044a0cc3c",
   "metadata": {},
   "outputs": [],
   "source": []
  },
  {
   "cell_type": "code",
   "execution_count": 5,
   "id": "39aac241-a105-4dd2-911a-17effd4cd78b",
   "metadata": {},
   "outputs": [
    {
     "data": {
      "text/plain": [
       "319210.27"
      ]
     },
     "execution_count": 5,
     "metadata": {},
     "output_type": "execute_result"
    }
   ],
   "source": [
    "max(visa_df['prevailing_wage'])"
   ]
  },
  {
   "cell_type": "code",
   "execution_count": 6,
   "id": "1f7caad1-8a99-4405-bc55-e31e91d1a58b",
   "metadata": {},
   "outputs": [
    {
     "data": {
      "text/plain": [
       "319210.27"
      ]
     },
     "execution_count": 6,
     "metadata": {},
     "output_type": "execute_result"
    }
   ],
   "source": [
    "visa_df['prevailing_wage'].max() # pandas "
   ]
  },
  {
   "cell_type": "code",
   "execution_count": 7,
   "id": "48546e94-8888-44b8-9e29-94f8b58f0189",
   "metadata": {},
   "outputs": [
    {
     "data": {
      "text/plain": [
       "319210.27"
      ]
     },
     "execution_count": 7,
     "metadata": {},
     "output_type": "execute_result"
    }
   ],
   "source": [
    "np.max(visa_df['prevailing_wage']) # numpys"
   ]
  },
  {
   "cell_type": "markdown",
   "id": "0243cd04-3d69-4b06-8d67-75d428eb93ad",
   "metadata": {},
   "source": [
    "**min**"
   ]
  },
  {
   "cell_type": "code",
   "execution_count": 8,
   "id": "2c33f294-8dc7-47ea-b015-0bfe44e51d54",
   "metadata": {},
   "outputs": [
    {
     "data": {
      "text/plain": [
       "2.1367"
      ]
     },
     "execution_count": 8,
     "metadata": {},
     "output_type": "execute_result"
    }
   ],
   "source": [
    "visa_df['prevailing_wage'].min() #pd"
   ]
  },
  {
   "cell_type": "code",
   "execution_count": 9,
   "id": "d73db2e5-10a5-493e-8a48-1cc12f35b8a2",
   "metadata": {},
   "outputs": [
    {
     "data": {
      "text/plain": [
       "2.1367"
      ]
     },
     "execution_count": 9,
     "metadata": {},
     "output_type": "execute_result"
    }
   ],
   "source": [
    "min(visa_df['prevailing_wage'])"
   ]
  },
  {
   "cell_type": "code",
   "execution_count": 10,
   "id": "e88bc1fb-8321-46c7-b422-67a8cf5275f4",
   "metadata": {},
   "outputs": [
    {
     "data": {
      "text/plain": [
       "2.1367"
      ]
     },
     "execution_count": 10,
     "metadata": {},
     "output_type": "execute_result"
    }
   ],
   "source": [
    "np.min(visa_df['prevailing_wage'])"
   ]
  },
  {
   "cell_type": "markdown",
   "id": "c489c7e3-9c97-4de4-941d-f3b977811a90",
   "metadata": {},
   "source": [
    "**nunique**"
   ]
  },
  {
   "cell_type": "code",
   "execution_count": 11,
   "id": "f4cbc586-5b0d-4e97-866d-f054a9431cf4",
   "metadata": {},
   "outputs": [
    {
     "data": {
      "text/plain": [
       "25454"
      ]
     },
     "execution_count": 11,
     "metadata": {},
     "output_type": "execute_result"
    }
   ],
   "source": [
    "visa_df['prevailing_wage'].nunique()"
   ]
  },
  {
   "cell_type": "code",
   "execution_count": 12,
   "id": "289c2a53-e1c7-4e42-b5f7-1d1ad57b7d12",
   "metadata": {},
   "outputs": [
    {
     "data": {
      "text/html": [
       "<div>\n",
       "<style scoped>\n",
       "    .dataframe tbody tr th:only-of-type {\n",
       "        vertical-align: middle;\n",
       "    }\n",
       "\n",
       "    .dataframe tbody tr th {\n",
       "        vertical-align: top;\n",
       "    }\n",
       "\n",
       "    .dataframe thead th {\n",
       "        text-align: right;\n",
       "    }\n",
       "</style>\n",
       "<table border=\"1\" class=\"dataframe\">\n",
       "  <thead>\n",
       "    <tr style=\"text-align: right;\">\n",
       "      <th></th>\n",
       "      <th>prevailing_wage</th>\n",
       "    </tr>\n",
       "  </thead>\n",
       "  <tbody>\n",
       "    <tr>\n",
       "      <th>count</th>\n",
       "      <td>25480.00</td>\n",
       "    </tr>\n",
       "    <tr>\n",
       "      <th>min</th>\n",
       "      <td>2.14</td>\n",
       "    </tr>\n",
       "    <tr>\n",
       "      <th>max</th>\n",
       "      <td>319210.27</td>\n",
       "    </tr>\n",
       "    <tr>\n",
       "      <th>mean</th>\n",
       "      <td>74455.81</td>\n",
       "    </tr>\n",
       "    <tr>\n",
       "      <th>median</th>\n",
       "      <td>70308.21</td>\n",
       "    </tr>\n",
       "    <tr>\n",
       "      <th>std</th>\n",
       "      <td>52815.94</td>\n",
       "    </tr>\n",
       "  </tbody>\n",
       "</table>\n",
       "</div>"
      ],
      "text/plain": [
       "        prevailing_wage\n",
       "count          25480.00\n",
       "min                2.14\n",
       "max           319210.27\n",
       "mean           74455.81\n",
       "median         70308.21\n",
       "std            52815.94"
      ]
     },
     "execution_count": 12,
     "metadata": {},
     "output_type": "execute_result"
    }
   ],
   "source": [
    "wage_count=round(len(visa_df['prevailing_wage']),2)\n",
    "wage_min=round(visa_df['prevailing_wage'].min(),2)\n",
    "wage_max =round(visa_df['prevailing_wage'].max(),2)\n",
    "wage_mean=round(visa_df['prevailing_wage'].mean(),2)\n",
    "wage_median=round(visa_df['prevailing_wage'].median(),2)\n",
    "wage_std=round(visa_df['prevailing_wage'].std(),2)\n",
    "list_values=[wage_count,wage_min,wage_max,wage_mean,wage_median,wage_std]\n",
    "index_val=['count','min','max','mean','median','std']\n",
    "pd.DataFrame(list_values,columns=['prevailing_wage'],index=index_val)"
   ]
  },
  {
   "cell_type": "code",
   "execution_count": 14,
   "id": "56e73761-4c3f-4e25-9ecd-8ab396cd7dbf",
   "metadata": {},
   "outputs": [
    {
     "name": "stdout",
     "output_type": "stream",
     "text": [
      "the 25% data is 34015.48\n",
      "the 50% data is 70308.21\n",
      "the 75% data is 107735.51\n"
     ]
    }
   ],
   "source": [
    "w_25p = round(np.percentile(visa_df['prevailing_wage'],25),2)\n",
    "w_50p = round(np.percentile(visa_df['prevailing_wage'],50),2)\n",
    "w_75p = round(np.percentile(visa_df['prevailing_wage'],75),2)\n",
    "\n",
    "\n",
    "print(f\"the 25% data is {w_25p}\")\n",
    "print(f\"the 50% data is {w_50p}\")\n",
    "print(f\"the 75% data is {w_75p}\")"
   ]
  },
  {
   "cell_type": "code",
   "execution_count": 15,
   "id": "55c50a15-5bf1-4871-8ee8-2da44b574e1b",
   "metadata": {},
   "outputs": [
    {
     "name": "stdout",
     "output_type": "stream",
     "text": [
      "the 25% data is 34015.48\n",
      "the 50% data is 70308.21\n",
      "the 75% data is 107735.51\n"
     ]
    }
   ],
   "source": [
    "w_25q = round(np.quantile(visa_df['prevailing_wage'],0.25),2)\n",
    "w_50q = round(np.quantile(visa_df['prevailing_wage'],0.50),2)\n",
    "w_75q = round(np.quantile(visa_df['prevailing_wage'],0.75),2)\n",
    "\n",
    "\n",
    "print(f\"the 25% data is {w_25q}\")\n",
    "print(f\"the 50% data is {w_50q}\")\n",
    "print(f\"the 75% data is {w_75q}\")\n"
   ]
  },
  {
   "cell_type": "code",
   "execution_count": 15,
   "id": "4db08514-2fff-448b-9b2e-7dc1937958d7",
   "metadata": {},
   "outputs": [],
   "source": [
    "con=visa_df['prevailing_wage']<34015\n",
    "wage_25p=len(visa_df[con])\n",
    "\n",
    "con1=visa_df['prevailing_wage']<1274\n",
    "wage_50p=len(visa_df[con1])\n",
    "\n",
    "con2=visa_df['prevailing_wage']<19110\n",
    "\n",
    "wage_75p=len(visa_df[con2])"
   ]
  },
  {
   "cell_type": "code",
   "execution_count": 16,
   "id": "867a5348-03c3-4d81-97f9-12162efb3b1f",
   "metadata": {},
   "outputs": [
    {
     "data": {
      "text/plain": [
       "(6370, 2294, 4240)"
      ]
     },
     "execution_count": 16,
     "metadata": {},
     "output_type": "execute_result"
    }
   ],
   "source": [
    "wage_25p , wage_50p , wage_75p"
   ]
  },
  {
   "cell_type": "markdown",
   "id": "8a058475-6404-48c8-8fed-2bcee45070b4",
   "metadata": {},
   "source": [
    "**Emperical rule(68-95-99.7)**"
   ]
  },
  {
   "cell_type": "markdown",
   "id": "42200ca0-7dd1-4452-bde8-3a8577cfcc4c",
   "metadata": {},
   "source": [
    "**68%**"
   ]
  },
  {
   "cell_type": "code",
   "execution_count": 16,
   "id": "c978e95a-63c2-4180-8401-36b5615ddb8c",
   "metadata": {},
   "outputs": [
    {
     "data": {
      "text/plain": [
       "(21639.869999999995, 127271.75)"
      ]
     },
     "execution_count": 16,
     "metadata": {},
     "output_type": "execute_result"
    }
   ],
   "source": [
    "v1=wage_mean-1*wage_std\n",
    "v2=wage_mean+1*wage_std\n",
    "\n",
    "v1,v2\n",
    "con11=visa_df['prevailing_wage']>v1\n",
    "con12=visa_df['prevailing_wage']<v2\n",
    "\n",
    "count1=len(visa_df[con11 & con12])\n",
    "\n",
    "count1,68*25480/100\n",
    "v1,v2\n",
    "\n"
   ]
  },
  {
   "cell_type": "markdown",
   "id": "b8f37865-dcda-402b-9dbb-57b7a7951947",
   "metadata": {},
   "source": [
    "**95%**"
   ]
  },
  {
   "cell_type": "code",
   "execution_count": 17,
   "id": "9e8e6e1c-dcde-4fcd-bf75-8a724890dd16",
   "metadata": {},
   "outputs": [
    {
     "data": {
      "text/plain": [
       "(24582, 24206.0)"
      ]
     },
     "execution_count": 17,
     "metadata": {},
     "output_type": "execute_result"
    }
   ],
   "source": [
    "v11=wage_mean-2*wage_std\n",
    "v22=wage_mean+2*wage_std\n",
    "\n",
    "v11,v22\n",
    "\n",
    "\n",
    "con112=visa_df['prevailing_wage']>v11\n",
    "con122=visa_df['prevailing_wage']<v22\n",
    "\n",
    "count2=len(visa_df[con112 & con122])\n",
    "\n",
    "count2,95*25480/100\n"
   ]
  },
  {
   "cell_type": "markdown",
   "id": "0f1b6cc8-e148-4930-86cb-2c5dc16484ab",
   "metadata": {},
   "source": [
    "**99.7%**"
   ]
  },
  {
   "cell_type": "code",
   "execution_count": 18,
   "id": "04aae6df-f5e8-4246-aff9-688b09131b8d",
   "metadata": {},
   "outputs": [
    {
     "data": {
      "text/plain": [
       "(25186, 25403.56)"
      ]
     },
     "execution_count": 18,
     "metadata": {},
     "output_type": "execute_result"
    }
   ],
   "source": [
    "v5=wage_mean-3*wage_std\n",
    "v3=wage_mean+3*wage_std\n",
    "\n",
    "v5,v3\n",
    "\n",
    "\n",
    "con4=visa_df['prevailing_wage']>v5\n",
    "con5=visa_df['prevailing_wage']<v3\n",
    "\n",
    "count3=len(visa_df[con4 & con5])\n",
    "count3 ,99.7*25480/100"
   ]
  },
  {
   "cell_type": "code",
   "execution_count": 20,
   "id": "7d95b9ac-d4cf-499e-8390-82d146086252",
   "metadata": {},
   "outputs": [
    {
     "data": {
      "text/plain": [
       "(25186, 24582, 17171)"
      ]
     },
     "execution_count": 20,
     "metadata": {},
     "output_type": "execute_result"
    }
   ],
   "source": [
    "count3 ,count2,count1 #== Emperical rule(68-95-99.7)"
   ]
  },
  {
   "cell_type": "code",
   "execution_count": 19,
   "id": "7bf23664-f4ef-40ae-a9ed-be48e8d1e86e",
   "metadata": {},
   "outputs": [
    {
     "data": {
      "text/html": [
       "<div>\n",
       "<style scoped>\n",
       "    .dataframe tbody tr th:only-of-type {\n",
       "        vertical-align: middle;\n",
       "    }\n",
       "\n",
       "    .dataframe tbody tr th {\n",
       "        vertical-align: top;\n",
       "    }\n",
       "\n",
       "    .dataframe thead th {\n",
       "        text-align: right;\n",
       "    }\n",
       "</style>\n",
       "<table border=\"1\" class=\"dataframe\">\n",
       "  <thead>\n",
       "    <tr style=\"text-align: right;\">\n",
       "      <th></th>\n",
       "      <th>prevailing_wage</th>\n",
       "    </tr>\n",
       "  </thead>\n",
       "  <tbody>\n",
       "    <tr>\n",
       "      <th>count</th>\n",
       "      <td>25480.00</td>\n",
       "    </tr>\n",
       "    <tr>\n",
       "      <th>min</th>\n",
       "      <td>2.14</td>\n",
       "    </tr>\n",
       "    <tr>\n",
       "      <th>max</th>\n",
       "      <td>319210.27</td>\n",
       "    </tr>\n",
       "    <tr>\n",
       "      <th>mean</th>\n",
       "      <td>74455.81</td>\n",
       "    </tr>\n",
       "    <tr>\n",
       "      <th>median</th>\n",
       "      <td>70308.21</td>\n",
       "    </tr>\n",
       "    <tr>\n",
       "      <th>std</th>\n",
       "      <td>52815.94</td>\n",
       "    </tr>\n",
       "    <tr>\n",
       "      <th>25%</th>\n",
       "      <td>34015.48</td>\n",
       "    </tr>\n",
       "    <tr>\n",
       "      <th>50%</th>\n",
       "      <td>70308.21</td>\n",
       "    </tr>\n",
       "    <tr>\n",
       "      <th>75%</th>\n",
       "      <td>107735.51</td>\n",
       "    </tr>\n",
       "  </tbody>\n",
       "</table>\n",
       "</div>"
      ],
      "text/plain": [
       "        prevailing_wage\n",
       "count          25480.00\n",
       "min                2.14\n",
       "max           319210.27\n",
       "mean           74455.81\n",
       "median         70308.21\n",
       "std            52815.94\n",
       "25%            34015.48\n",
       "50%            70308.21\n",
       "75%           107735.51"
      ]
     },
     "execution_count": 19,
     "metadata": {},
     "output_type": "execute_result"
    }
   ],
   "source": [
    "wage_count=round(len(visa_df['prevailing_wage']),2)\n",
    "wage_min=round(visa_df['prevailing_wage'].min(),2)\n",
    "wage_max =round(visa_df['prevailing_wage'].max(),2)\n",
    "wage_mean=round(visa_df['prevailing_wage'].mean(),2)\n",
    "wage_median=round(visa_df['prevailing_wage'].median(),2)\n",
    "wage_std=round(visa_df['prevailing_wage'].std(),2)\n",
    "w_25q = round(np.quantile(visa_df['prevailing_wage'],0.25),2)\n",
    "w_50q = round(np.quantile(visa_df['prevailing_wage'],0.50),2)\n",
    "w_75q = round(np.quantile(visa_df['prevailing_wage'],0.75),2)\n",
    "list_values=[wage_count,wage_min,wage_max,wage_mean,wage_median,wage_std,w_25q,w_50q,w_75q]\n",
    "index_val=['count','min','max','mean','median','std','25%','50%','75%']\n",
    "pd.DataFrame(list_values,columns=['prevailing_wage'],index=index_val)"
   ]
  },
  {
   "cell_type": "code",
   "execution_count": 21,
   "id": "a5c4b93b-b906-4c86-9a74-3dcbc22a6116",
   "metadata": {},
   "outputs": [
    {
     "data": {
      "text/html": [
       "<div>\n",
       "<style scoped>\n",
       "    .dataframe tbody tr th:only-of-type {\n",
       "        vertical-align: middle;\n",
       "    }\n",
       "\n",
       "    .dataframe tbody tr th {\n",
       "        vertical-align: top;\n",
       "    }\n",
       "\n",
       "    .dataframe thead th {\n",
       "        text-align: right;\n",
       "    }\n",
       "</style>\n",
       "<table border=\"1\" class=\"dataframe\">\n",
       "  <thead>\n",
       "    <tr style=\"text-align: right;\">\n",
       "      <th></th>\n",
       "      <th>prevailing_wage</th>\n",
       "    </tr>\n",
       "  </thead>\n",
       "  <tbody>\n",
       "    <tr>\n",
       "      <th>count</th>\n",
       "      <td>25480.00</td>\n",
       "    </tr>\n",
       "    <tr>\n",
       "      <th>min</th>\n",
       "      <td>2.14</td>\n",
       "    </tr>\n",
       "    <tr>\n",
       "      <th>max</th>\n",
       "      <td>319210.27</td>\n",
       "    </tr>\n",
       "    <tr>\n",
       "      <th>mean</th>\n",
       "      <td>74455.81</td>\n",
       "    </tr>\n",
       "    <tr>\n",
       "      <th>median</th>\n",
       "      <td>70308.21</td>\n",
       "    </tr>\n",
       "    <tr>\n",
       "      <th>std</th>\n",
       "      <td>52815.94</td>\n",
       "    </tr>\n",
       "    <tr>\n",
       "      <th>25%</th>\n",
       "      <td>34015.48</td>\n",
       "    </tr>\n",
       "    <tr>\n",
       "      <th>50%</th>\n",
       "      <td>70308.21</td>\n",
       "    </tr>\n",
       "    <tr>\n",
       "      <th>75%</th>\n",
       "      <td>107735.51</td>\n",
       "    </tr>\n",
       "  </tbody>\n",
       "</table>\n",
       "</div>"
      ],
      "text/plain": [
       "        prevailing_wage\n",
       "count          25480.00\n",
       "min                2.14\n",
       "max           319210.27\n",
       "mean           74455.81\n",
       "median         70308.21\n",
       "std            52815.94\n",
       "25%            34015.48\n",
       "50%            70308.21\n",
       "75%           107735.51"
      ]
     },
     "execution_count": 21,
     "metadata": {},
     "output_type": "execute_result"
    }
   ],
   "source": [
    "count=round(len(visa_df['prevailing_wage']),2)\n",
    "min=round(visa_df['prevailing_wage'].min(),2)\n",
    "max =round(visa_df['prevailing_wage'].max(),2)\n",
    "mean=round(visa_df['prevailing_wage'].mean(),2)\n",
    "median=round(visa_df['prevailing_wage'].median(),2)\n",
    "std=round(visa_df['prevailing_wage'].std(),2)\n",
    "w_25q = round(np.quantile(visa_df['prevailing_wage'],0.25),2)\n",
    "w_50q = round(np.quantile(visa_df['prevailing_wage'],0.50),2)\n",
    "w_75q = round(np.quantile(visa_df['prevailing_wage'],0.75),2)\n",
    "\n",
    "\n",
    "\n",
    "list_values=[wage_count,wage_min,wage_max,wage_mean,wage_median,wage_std,w_25q,w_50q,w_75q]\n",
    "\n",
    "index_val=['count','min','max','mean','median','std','25%','50%','75%']\n",
    "\n",
    "\n",
    "\n",
    "pd.DataFrame(list_values,columns=['prevailing_wage'],index=index_val)"
   ]
  },
  {
   "cell_type": "code",
   "execution_count": 22,
   "id": "847dd8dd-b1f5-47c7-af34-87f47b3c163f",
   "metadata": {},
   "outputs": [
    {
     "name": "stdout",
     "output_type": "stream",
     "text": [
      "no_of_employees\n",
      "yr_of_estab\n",
      "prevailing_wage\n"
     ]
    }
   ],
   "source": [
    "for i in visa_df.select_dtypes(exclude='object').columns:\n",
    "    print(i)"
   ]
  },
  {
   "cell_type": "code",
   "execution_count": 23,
   "id": "62cdfa9e-3a48-45cb-b2ca-2836b7105043",
   "metadata": {},
   "outputs": [
    {
     "data": {
      "text/html": [
       "<div>\n",
       "<style scoped>\n",
       "    .dataframe tbody tr th:only-of-type {\n",
       "        vertical-align: middle;\n",
       "    }\n",
       "\n",
       "    .dataframe tbody tr th {\n",
       "        vertical-align: top;\n",
       "    }\n",
       "\n",
       "    .dataframe thead th {\n",
       "        text-align: right;\n",
       "    }\n",
       "</style>\n",
       "<table border=\"1\" class=\"dataframe\">\n",
       "  <thead>\n",
       "    <tr style=\"text-align: right;\">\n",
       "      <th></th>\n",
       "      <th>no_of_employees</th>\n",
       "      <th>prevailing_wage</th>\n",
       "      <th>yr_of_estab</th>\n",
       "    </tr>\n",
       "  </thead>\n",
       "  <tbody>\n",
       "    <tr>\n",
       "      <th>count</th>\n",
       "      <td>25480.00</td>\n",
       "      <td>25480.00</td>\n",
       "      <td>25480.00</td>\n",
       "    </tr>\n",
       "    <tr>\n",
       "      <th>min</th>\n",
       "      <td>-26.00</td>\n",
       "      <td>2.14</td>\n",
       "      <td>1800.00</td>\n",
       "    </tr>\n",
       "    <tr>\n",
       "      <th>max</th>\n",
       "      <td>602069.00</td>\n",
       "      <td>319210.27</td>\n",
       "      <td>2016.00</td>\n",
       "    </tr>\n",
       "    <tr>\n",
       "      <th>mean</th>\n",
       "      <td>5667.04</td>\n",
       "      <td>74455.81</td>\n",
       "      <td>1979.41</td>\n",
       "    </tr>\n",
       "    <tr>\n",
       "      <th>median</th>\n",
       "      <td>2109.00</td>\n",
       "      <td>70308.21</td>\n",
       "      <td>1997.00</td>\n",
       "    </tr>\n",
       "    <tr>\n",
       "      <th>std</th>\n",
       "      <td>22877.93</td>\n",
       "      <td>52815.94</td>\n",
       "      <td>42.37</td>\n",
       "    </tr>\n",
       "    <tr>\n",
       "      <th>25%</th>\n",
       "      <td>1022.00</td>\n",
       "      <td>34015.48</td>\n",
       "      <td>1976.00</td>\n",
       "    </tr>\n",
       "    <tr>\n",
       "      <th>50%</th>\n",
       "      <td>2109.00</td>\n",
       "      <td>70308.21</td>\n",
       "      <td>1997.00</td>\n",
       "    </tr>\n",
       "    <tr>\n",
       "      <th>75%</th>\n",
       "      <td>3504.00</td>\n",
       "      <td>107735.51</td>\n",
       "      <td>2005.00</td>\n",
       "    </tr>\n",
       "  </tbody>\n",
       "</table>\n",
       "</div>"
      ],
      "text/plain": [
       "        no_of_employees  prevailing_wage  yr_of_estab\n",
       "count          25480.00         25480.00     25480.00\n",
       "min              -26.00             2.14      1800.00\n",
       "max           602069.00        319210.27      2016.00\n",
       "mean            5667.04         74455.81      1979.41\n",
       "median          2109.00         70308.21      1997.00\n",
       "std            22877.93         52815.94        42.37\n",
       "25%             1022.00         34015.48      1976.00\n",
       "50%             2109.00         70308.21      1997.00\n",
       "75%             3504.00        107735.51      2005.00"
      ]
     },
     "execution_count": 23,
     "metadata": {},
     "output_type": "execute_result"
    }
   ],
   "source": [
    "l1=[]\n",
    "cols = ['no_of_employees','prevailing_wage','yr_of_estab']\n",
    "for i in cols:\n",
    "    count=round(len(visa_df[i]),2)\n",
    "    min=round(visa_df[i].min(),2)\n",
    "    max =round(visa_df[i].max(),2)\n",
    "    mean=round(visa_df[i].mean(),2)\n",
    "    median=round(visa_df[i].median(),2)\n",
    "    std=round(visa_df[i].std(),2)\n",
    "    i_25q = round(np.quantile(visa_df[i],0.25),2)\n",
    "    i_50q = round(np.quantile(visa_df[i],0.50),2)\n",
    "    i_75q = round(np.quantile(visa_df[i],0.75),2)\n",
    "\n",
    "    l1.append([count,min,max,mean,median,std,i_25q,i_50q,i_75q])\n",
    "\n",
    "\n",
    "index_val=['count','min','max','mean','median','std','25%','50%','75%']\n",
    "\n",
    "\n",
    "\n",
    "df=pd.DataFrame(l1,columns=index_val,index= cols).T\n",
    "\n",
    "\n",
    "df\n",
    "\n",
    "\n",
    "\n",
    "\n",
    "    \n",
    "\n"
   ]
  },
  {
   "cell_type": "markdown",
   "id": "7b871dd6-f50c-42f4-a0e6-2b6a44dca667",
   "metadata": {},
   "source": [
    "**Describe function()**"
   ]
  },
  {
   "cell_type": "code",
   "execution_count": 24,
   "id": "5e68e9d4-1dfd-4e90-96e2-01108b1ddf2b",
   "metadata": {},
   "outputs": [
    {
     "data": {
      "text/html": [
       "<div>\n",
       "<style scoped>\n",
       "    .dataframe tbody tr th:only-of-type {\n",
       "        vertical-align: middle;\n",
       "    }\n",
       "\n",
       "    .dataframe tbody tr th {\n",
       "        vertical-align: top;\n",
       "    }\n",
       "\n",
       "    .dataframe thead th {\n",
       "        text-align: right;\n",
       "    }\n",
       "</style>\n",
       "<table border=\"1\" class=\"dataframe\">\n",
       "  <thead>\n",
       "    <tr style=\"text-align: right;\">\n",
       "      <th></th>\n",
       "      <th>no_of_employees</th>\n",
       "      <th>yr_of_estab</th>\n",
       "      <th>prevailing_wage</th>\n",
       "    </tr>\n",
       "  </thead>\n",
       "  <tbody>\n",
       "    <tr>\n",
       "      <th>count</th>\n",
       "      <td>25480.000000</td>\n",
       "      <td>25480.000000</td>\n",
       "      <td>25480.000000</td>\n",
       "    </tr>\n",
       "    <tr>\n",
       "      <th>mean</th>\n",
       "      <td>5667.043210</td>\n",
       "      <td>1979.409929</td>\n",
       "      <td>74455.814592</td>\n",
       "    </tr>\n",
       "    <tr>\n",
       "      <th>std</th>\n",
       "      <td>22877.928848</td>\n",
       "      <td>42.366929</td>\n",
       "      <td>52815.942327</td>\n",
       "    </tr>\n",
       "    <tr>\n",
       "      <th>min</th>\n",
       "      <td>-26.000000</td>\n",
       "      <td>1800.000000</td>\n",
       "      <td>2.136700</td>\n",
       "    </tr>\n",
       "    <tr>\n",
       "      <th>25%</th>\n",
       "      <td>1022.000000</td>\n",
       "      <td>1976.000000</td>\n",
       "      <td>34015.480000</td>\n",
       "    </tr>\n",
       "    <tr>\n",
       "      <th>50%</th>\n",
       "      <td>2109.000000</td>\n",
       "      <td>1997.000000</td>\n",
       "      <td>70308.210000</td>\n",
       "    </tr>\n",
       "    <tr>\n",
       "      <th>75%</th>\n",
       "      <td>3504.000000</td>\n",
       "      <td>2005.000000</td>\n",
       "      <td>107735.512500</td>\n",
       "    </tr>\n",
       "    <tr>\n",
       "      <th>max</th>\n",
       "      <td>602069.000000</td>\n",
       "      <td>2016.000000</td>\n",
       "      <td>319210.270000</td>\n",
       "    </tr>\n",
       "  </tbody>\n",
       "</table>\n",
       "</div>"
      ],
      "text/plain": [
       "       no_of_employees   yr_of_estab  prevailing_wage\n",
       "count     25480.000000  25480.000000     25480.000000\n",
       "mean       5667.043210   1979.409929     74455.814592\n",
       "std       22877.928848     42.366929     52815.942327\n",
       "min         -26.000000   1800.000000         2.136700\n",
       "25%        1022.000000   1976.000000     34015.480000\n",
       "50%        2109.000000   1997.000000     70308.210000\n",
       "75%        3504.000000   2005.000000    107735.512500\n",
       "max      602069.000000   2016.000000    319210.270000"
      ]
     },
     "execution_count": 24,
     "metadata": {},
     "output_type": "execute_result"
    }
   ],
   "source": [
    "visa_df.describe()  # we can't round method # it only numrical data"
   ]
  },
  {
   "cell_type": "markdown",
   "id": "24f5aca8-2c34-4830-932d-fb41b8b49c6b",
   "metadata": {},
   "source": [
    "**Histograme-plot**\n",
    "\n",
    "- histogram can get by matplotib\n",
    "\n",
    "- histogram can get by matplot\n",
    "\n",
    "- hist can do in seaborn\n",
    "\n",
    "- plt.hist()"
   ]
  },
  {
   "cell_type": "code",
   "execution_count": 25,
   "id": "9ed8f241-a203-4a91-bcbd-338b2403741e",
   "metadata": {},
   "outputs": [
    {
     "name": "stdout",
     "output_type": "stream",
     "text": [
      "<BarContainer object of 40 artists>\n"
     ]
    },
    {
     "data": {
      "image/png": "[encoded data removed]",
      "text/plain": [
       "<Figure size 640x480 with 1 Axes>"
      ]
     },
     "metadata": {},
     "output_type": "display_data"
    }
   ],
   "source": [
    "import matplotlib.pyplot as plt\n",
    "\n",
    "f,i,n=plt.hist(visa_df['prevailing_wage'],bins=40)\n",
    "print(n)\n",
    "\n"
   ]
  },
  {
   "cell_type": "markdown",
   "id": "54f10c3c-9bd6-44c7-9e16-ecfef5c8abd3",
   "metadata": {},
   "source": [
    "from interval range \n",
    "\n",
    "  - 2.13670000e+00 to 3.19229500e+04, \n",
    "\n",
    "      - 6038 members have salary\n",
    "\n",
    "  - 3.19229500e+04 to 6.38437634e+04\n",
    "\n",
    "      - 5504 member have salary\n",
    "\n",
    "- histogram will give 3 outputs\n",
    "\n",
    "   - frequency\n",
    "\n",
    "       - in each interval range how many observation are there \n",
    "\n",
    "- intervals\n",
    "\n",
    "    - interval range \n",
    "\n",
    "- numbers of intervals\n"
   ]
  },
  {
   "cell_type": "markdown",
   "id": "1ec9293b-9681-48cc-b65b-13e4a18bc7c9",
   "metadata": {},
   "source": [
    "**check ponit-1**"
   ]
  },
  {
   "cell_type": "code",
   "execution_count": 27,
   "id": "421dec15-bb41-4d67-b61e-bf9697c9a329",
   "metadata": {},
   "outputs": [
    {
     "data": {
      "text/plain": [
       "17171"
      ]
     },
     "execution_count": 27,
     "metadata": {},
     "output_type": "execute_result"
    }
   ],
   "source": [
    "\n",
    "\n",
    "\n",
    "con11=visa_df['prevailing_wage']>v1\n",
    "con12=visa_df['prevailing_wage']<v2\n",
    "\n",
    "count1=len(visa_df[con11 & con12])\n",
    "\n",
    "count1\n"
   ]
  },
  {
   "cell_type": "code",
   "execution_count": 28,
   "id": "4383c20b-6aac-41d1-99f0-417fe1c6d497",
   "metadata": {},
   "outputs": [
    {
     "data": {
      "text/plain": [
       "6038"
      ]
     },
     "execution_count": 28,
     "metadata": {},
     "output_type": "execute_result"
    }
   ],
   "source": [
    "con11=visa_df['prevailing_wage']>=2.1367\n",
    "con12=visa_df['prevailing_wage']<31922.95\n",
    "len(visa_df[con11&con12])"
   ]
  },
  {
   "cell_type": "code",
   "execution_count": 52,
   "id": "54dbc2f1-8ae3-4929-bf3c-195592e304c1",
   "metadata": {},
   "outputs": [
    {
     "data": {
      "text/plain": [
       "(2.1367, 31922.95)"
      ]
     },
     "execution_count": 52,
     "metadata": {},
     "output_type": "execute_result"
    }
   ],
   "source": [
    "2.13670000e+00 , 3.19229500e+04"
   ]
  },
  {
   "cell_type": "code",
   "execution_count": 30,
   "id": "b5d09ca0-40eb-440c-8199-d04ceb050c18",
   "metadata": {},
   "outputs": [
    {
     "data": {
      "image/png": "[encoded data removed]",
      "text/plain": [
       "<Figure size 1800x300 with 1 Axes>"
      ]
     },
     "metadata": {},
     "output_type": "display_data"
    }
   ],
   "source": [
    "import matplotlib.pyplot as plt\n",
    "import seaborn as sns\n",
    "plt.figure(figsize=(18,3))\n",
    "plt.subplot(1,3,1)\n",
    "plt.hist(visa_df['prevailing_wage'],bins=40)\n",
    "\n",
    "\n",
    "plt.subplot(1,3,1)\n",
    "plt.hist(visa_df['no_of_employees'],bins=40)\n",
    "\n",
    "\n",
    "plt.subplot(1,3,1)\n",
    "plt.hist(visa_df['yr_of_estab'],bins=40)\n",
    "\n",
    "plt.show()\n"
   ]
  },
  {
   "cell_type": "code",
   "execution_count": 31,
   "id": "045b6f64-d39e-4784-99d4-c39407bed3dd",
   "metadata": {},
   "outputs": [
    {
     "data": {
      "image/png": "[encoded data removed]",
      "text/plain": [
       "<Figure size 1800x300 with 3 Axes>"
      ]
     },
     "metadata": {},
     "output_type": "display_data"
    }
   ],
   "source": [
    "plt.figure(figsize=(18,3))\n",
    "for i in range(len(cols)):\n",
    "    plt.subplot(1,len(cols),i+1)\n",
    "    plt.hist(visa_df[cols[i]],bins=40)\n",
    "    plt.title(f\"Histogram of {cols[i]}\")\n",
    "    plt.xlabel(\"class Interval\")\n",
    "    plt.ylabel(\"count\")"
   ]
  },
  {
   "cell_type": "markdown",
   "id": "0fb7a2b9-bb80-4b77-bce9-4248eb5ce082",
   "metadata": {},
   "source": [
    "**histoGram-seaborn**\n",
    "\n",
    "- hisplot\n",
    "\n",
    "- displot"
   ]
  },
  {
   "cell_type": "code",
   "execution_count": 75,
   "id": "fa2c2ace-3f44-40ec-9669-58ff7dc38ae1",
   "metadata": {},
   "outputs": [],
   "source": [
    "import seaborn as sns\n",
    "import warnings\n",
    "warnings.filterwarnings(\"ignore\")"
   ]
  },
  {
   "cell_type": "code",
   "execution_count": 34,
   "id": "9ba31320-b3c5-47d8-baf5-a093396e461f",
   "metadata": {},
   "outputs": [
    {
     "data": {
      "image/png": "[encoded data removed]",
      "text/plain": [
       "<Figure size 1800x500 with 3 Axes>"
      ]
     },
     "metadata": {},
     "output_type": "display_data"
    }
   ],
   "source": [
    "import seaborn as sns\n",
    "import warnings\n",
    "warnings.filterwarnings(\"ignore\")\n",
    "plt.figure(figsize=(18,5))\n",
    "for i in range(len(cols)):\n",
    "    plt.subplot(1,len(cols),i+1)\n",
    "    sns.histplot(visa_df[cols[i]])\n",
    "    plt.title(f\"Histogram of {cols[i]}\")\n",
    "    plt.xlabel(\"Class Interval\")\n",
    "    plt.ylabel(\"Count\")"
   ]
  },
  {
   "cell_type": "code",
   "execution_count": 37,
   "id": "5dec966a-5bce-44e7-b506-a141357c0d61",
   "metadata": {},
   "outputs": [
    {
     "data": {
      "image/png": "[encoded data removed]",
      "text/plain": [
       "<Figure size 1800x500 with 3 Axes>"
      ]
     },
     "metadata": {},
     "output_type": "display_data"
    }
   ],
   "source": [
    "import seaborn as sns\n",
    "import warnings\n",
    "warnings.filterwarnings(\"ignore\")\n",
    "plt.figure(figsize=(18,5))\n",
    "for i in range(len(cols)):\n",
    "    plt.subplot(1,len(cols),i+1)\n",
    "    sns.distplot(visa_df[cols[i]])\n",
    "    plt.title(f\"Histogram of {cols[i]}\")\n",
    "    plt.xlabel(\"Class Interval\")\n",
    "    plt.ylabel(\"Count\")"
   ]
  },
  {
   "cell_type": "code",
   "execution_count": 40,
   "id": "9dc52c39-d4f9-4c02-961a-1ad86471c968",
   "metadata": {},
   "outputs": [
    {
     "data": {
      "text/html": [
       "<div>\n",
       "<style scoped>\n",
       "    .dataframe tbody tr th:only-of-type {\n",
       "        vertical-align: middle;\n",
       "    }\n",
       "\n",
       "    .dataframe tbody tr th {\n",
       "        vertical-align: top;\n",
       "    }\n",
       "\n",
       "    .dataframe thead th {\n",
       "        text-align: right;\n",
       "    }\n",
       "</style>\n",
       "<table border=\"1\" class=\"dataframe\">\n",
       "  <thead>\n",
       "    <tr style=\"text-align: right;\">\n",
       "      <th></th>\n",
       "      <th>no_of_employees</th>\n",
       "      <th>yr_of_estab</th>\n",
       "      <th>prevailing_wage</th>\n",
       "    </tr>\n",
       "  </thead>\n",
       "  <tbody>\n",
       "    <tr>\n",
       "      <th>count</th>\n",
       "      <td>25480.000000</td>\n",
       "      <td>25480.000000</td>\n",
       "      <td>25480.000000</td>\n",
       "    </tr>\n",
       "    <tr>\n",
       "      <th>mean</th>\n",
       "      <td>5667.043210</td>\n",
       "      <td>1979.409929</td>\n",
       "      <td>74455.814592</td>\n",
       "    </tr>\n",
       "    <tr>\n",
       "      <th>std</th>\n",
       "      <td>22877.928848</td>\n",
       "      <td>42.366929</td>\n",
       "      <td>52815.942327</td>\n",
       "    </tr>\n",
       "    <tr>\n",
       "      <th>min</th>\n",
       "      <td>-26.000000</td>\n",
       "      <td>1800.000000</td>\n",
       "      <td>2.136700</td>\n",
       "    </tr>\n",
       "    <tr>\n",
       "      <th>25%</th>\n",
       "      <td>1022.000000</td>\n",
       "      <td>1976.000000</td>\n",
       "      <td>34015.480000</td>\n",
       "    </tr>\n",
       "    <tr>\n",
       "      <th>50%</th>\n",
       "      <td>2109.000000</td>\n",
       "      <td>1997.000000</td>\n",
       "      <td>70308.210000</td>\n",
       "    </tr>\n",
       "    <tr>\n",
       "      <th>75%</th>\n",
       "      <td>3504.000000</td>\n",
       "      <td>2005.000000</td>\n",
       "      <td>107735.512500</td>\n",
       "    </tr>\n",
       "    <tr>\n",
       "      <th>max</th>\n",
       "      <td>602069.000000</td>\n",
       "      <td>2016.000000</td>\n",
       "      <td>319210.270000</td>\n",
       "    </tr>\n",
       "  </tbody>\n",
       "</table>\n",
       "</div>"
      ],
      "text/plain": [
       "       no_of_employees   yr_of_estab  prevailing_wage\n",
       "count     25480.000000  25480.000000     25480.000000\n",
       "mean       5667.043210   1979.409929     74455.814592\n",
       "std       22877.928848     42.366929     52815.942327\n",
       "min         -26.000000   1800.000000         2.136700\n",
       "25%        1022.000000   1976.000000     34015.480000\n",
       "50%        2109.000000   1997.000000     70308.210000\n",
       "75%        3504.000000   2005.000000    107735.512500\n",
       "max      602069.000000   2016.000000    319210.270000"
      ]
     },
     "execution_count": 40,
     "metadata": {},
     "output_type": "execute_result"
    }
   ],
   "source": [
    "visa_df.describe()"
   ]
  },
  {
   "cell_type": "code",
   "execution_count": null,
   "id": "ef040df7-36ca-448f-834b-90d2565043b4",
   "metadata": {},
   "outputs": [],
   "source": []
  }
 ],
 "metadata": {
  "kernelspec": {
   "display_name": "Python 3 (ipykernel)",
   "language": "python",
   "name": "python3"
  },
  "language_info": {
   "codemirror_mode": {
    "name": "ipython",
    "version": 3
   },
   "file_extension": ".py",
   "mimetype": "text/x-python",
   "name": "python",
   "nbconvert_exporter": "python",
   "pygments_lexer": "ipython3",
   "version": "3.11.7"
  }
 },
 "nbformat": 4,
 "nbformat_minor": 5
}
