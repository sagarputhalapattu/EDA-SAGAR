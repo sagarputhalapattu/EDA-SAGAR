{
 "cells": [
  {
   "cell_type": "code",
   "execution_count": 1,
   "id": "126e3bc3-a1ef-475a-b7d2-7aed4e8a5828",
   "metadata": {},
   "outputs": [],
   "source": [
    "import pandas as pd\n",
    "import numpy as np\n",
    "import matplotlib.pyplot as plt\n",
    "import seaborn as sns\n"
   ]
  },
  {
   "cell_type": "code",
   "execution_count": 2,
   "id": "8a81d026-3ef2-4b00-a899-21acbaae4243",
   "metadata": {},
   "outputs": [
    {
     "data": {
      "text/html": [
       "<div>\n",
       "<style scoped>\n",
       "    .dataframe tbody tr th:only-of-type {\n",
       "        vertical-align: middle;\n",
       "    }\n",
       "\n",
       "    .dataframe tbody tr th {\n",
       "        vertical-align: top;\n",
       "    }\n",
       "\n",
       "    .dataframe thead th {\n",
       "        text-align: right;\n",
       "    }\n",
       "</style>\n",
       "<table border=\"1\" class=\"dataframe\">\n",
       "  <thead>\n",
       "    <tr style=\"text-align: right;\">\n",
       "      <th></th>\n",
       "      <th>case_id</th>\n",
       "      <th>continent</th>\n",
       "      <th>education_of_employee</th>\n",
       "      <th>has_job_experience</th>\n",
       "      <th>requires_job_training</th>\n",
       "      <th>no_of_employees</th>\n",
       "      <th>yr_of_estab</th>\n",
       "      <th>region_of_employment</th>\n",
       "      <th>prevailing_wage</th>\n",
       "      <th>unit_of_wage</th>\n",
       "      <th>full_time_position</th>\n",
       "      <th>case_status</th>\n",
       "    </tr>\n",
       "  </thead>\n",
       "  <tbody>\n",
       "    <tr>\n",
       "      <th>0</th>\n",
       "      <td>EZYV01</td>\n",
       "      <td>Asia</td>\n",
       "      <td>High School</td>\n",
       "      <td>N</td>\n",
       "      <td>N</td>\n",
       "      <td>14513</td>\n",
       "      <td>2007</td>\n",
       "      <td>West</td>\n",
       "      <td>592.2029</td>\n",
       "      <td>Hour</td>\n",
       "      <td>Y</td>\n",
       "      <td>Denied</td>\n",
       "    </tr>\n",
       "    <tr>\n",
       "      <th>1</th>\n",
       "      <td>EZYV02</td>\n",
       "      <td>Asia</td>\n",
       "      <td>Master's</td>\n",
       "      <td>Y</td>\n",
       "      <td>N</td>\n",
       "      <td>2412</td>\n",
       "      <td>2002</td>\n",
       "      <td>Northeast</td>\n",
       "      <td>83425.6500</td>\n",
       "      <td>Year</td>\n",
       "      <td>Y</td>\n",
       "      <td>Certified</td>\n",
       "    </tr>\n",
       "  </tbody>\n",
       "</table>\n",
       "</div>"
      ],
      "text/plain": [
       "  case_id continent education_of_employee has_job_experience  \\\n",
       "0  EZYV01      Asia           High School                  N   \n",
       "1  EZYV02      Asia              Master's                  Y   \n",
       "\n",
       "  requires_job_training  no_of_employees  yr_of_estab region_of_employment  \\\n",
       "0                     N            14513         2007                 West   \n",
       "1                     N             2412         2002            Northeast   \n",
       "\n",
       "   prevailing_wage unit_of_wage full_time_position case_status  \n",
       "0         592.2029         Hour                  Y      Denied  \n",
       "1       83425.6500         Year                  Y   Certified  "
      ]
     },
     "execution_count": 2,
     "metadata": {},
     "output_type": "execute_result"
    }
   ],
   "source": [
    "visa_df = pd.read_csv(\"Visadataset.csv\")\n",
    "visa_df.head(2)"
   ]
  },
  {
   "cell_type": "markdown",
   "id": "92bcda9d-2835-455a-a459-2acf2c19fb97",
   "metadata": {},
   "source": [
    "**Box-plot**"
   ]
  },
  {
   "cell_type": "markdown",
   "id": "3e82ffb1-ef7b-41f3-b8c6-6a1914f6b641",
   "metadata": {},
   "source": [
    "- box plot is used for detect outliers\n",
    "\n",
    "- box plot has min Q1 ,Q2 ,Q3 and max values\n",
    "\n",
    "- inside box plot red line represent median which 50 % of data\n",
    "\n",
    "\n",
    "**outlier**\n",
    "\n",
    "    - very very huge observation \n",
    "\n",
    "    - very very small odservation \n",
    "\n",
    "    - which pull the data in side of the distribution\n",
    "\n",
    "    - mild outliers\n",
    "\n",
    "        - Q1-1.5/QR and Q3+1.5 iQr\n",
    "\n",
    "    - strong ouliers\n",
    "\n",
    "      - q1-3 / IQR and q3+3 IQR\n",
    "\n",
    "    - IQR = inter quartile range\n",
    "\n",
    "\n",
    "      - IQR = Q3 - Q1\n",
    "\n",
    "q1:25\n",
    "\n",
    "q2 : 50\n",
    "\n",
    "q3 : 75\n",
    "\n"
   ]
  },
  {
   "cell_type": "code",
   "execution_count": null,
   "id": "568fa742-0925-443b-bb25-336ab957c82c",
   "metadata": {},
   "outputs": [],
   "source": [
    "  Q1-1.5IQR   Q1   median  Q3   Q3+1.5IQR\n",
    "                       |-----:-----|\n",
    "       o      |--------|     :     |--------|    o  o\n",
    "                       |-----:-----|\n",
    "     flier             <----------->            fliers\n",
    "                            IQR"
   ]
  },
  {
   "cell_type": "code",
   "execution_count": 18,
   "id": "79ffc04d-e5fb-434e-b960-2c5b6d34d788",
   "metadata": {},
   "outputs": [
    {
     "data": {
      "image/png": "[encoded data removed]",
      "text/plain": [
       "<Figure size 800x200 with 2 Axes>"
      ]
     },
     "metadata": {},
     "output_type": "display_data"
    }
   ],
   "source": [
    "plt.figure(figsize=(8,2))\n",
    "plt.subplot(1,2,1).boxplot(visa_df['prevailing_wage'])\n",
    "plt.subplot(1,2,2).hist(visa_df['prevailing_wage']) \n",
    "plt.show()"
   ]
  },
  {
   "cell_type": "code",
   "execution_count": 10,
   "id": "e75fbcbf-cbea-4948-8d7a-28a283391785",
   "metadata": {},
   "outputs": [
    {
     "data": {
      "text/plain": [
       "<Axes: >"
      ]
     },
     "execution_count": 10,
     "metadata": {},
     "output_type": "execute_result"
    },
    {
     "data": {
      "image/png": "[encoded data removed]",
      "text/plain": [
       "<Figure size 640x480 with 1 Axes>"
      ]
     },
     "metadata": {},
     "output_type": "display_data"
    }
   ],
   "source": [
    "sns.boxplot(visa_df['prevailing_wage'],\n",
    "            orient='h')"
   ]
  },
  {
   "cell_type": "markdown",
   "id": "03740ade-cd43-441a-9c47-4c1af323c0f6",
   "metadata": {},
   "source": [
    "**Finding the outliers**\n",
    "\n",
    "- outliers are avaialble less then Q1-1.5 * iQr\n",
    "\n",
    "- outlier are avilable greater then Q3 + 1.5*IQR\n",
    "\n",
    "- step1:\n",
    "\n",
    "   - cal q1\n",
    "\n",
    "   - cal q3\n",
    "\n",
    "   - cal  IQR : Q1-Q3\n",
    "\n",
    "\n",
    "- step-2:\n",
    "\n",
    "  - LB = Q1-1.5*IRQ\n",
    "\n",
    "\n",
    "  - UB=Q3+1.5*IQR\n",
    "\n",
    "\n",
    "- step-3\n",
    "\n",
    "   - con1 = visa_df['prevailing_wage']< lb\n",
    "\n",
    "    - con2 = visa_df['prevailing_wage']<lb\n",
    "\n",
    "   - con3 = visa_df['prevailing_wage']<lb\n",
    "\n",
    "    - apply OR opera and get the outlier data\n",
    "\n"
   ]
  },
  {
   "cell_type": "code",
   "execution_count": 21,
   "id": "46159265-d39b-4ceb-81da-f6148366d841",
   "metadata": {},
   "outputs": [
    {
     "data": {
      "text/html": [
       "<div>\n",
       "<style scoped>\n",
       "    .dataframe tbody tr th:only-of-type {\n",
       "        vertical-align: middle;\n",
       "    }\n",
       "\n",
       "    .dataframe tbody tr th {\n",
       "        vertical-align: top;\n",
       "    }\n",
       "\n",
       "    .dataframe thead th {\n",
       "        text-align: right;\n",
       "    }\n",
       "</style>\n",
       "<table border=\"1\" class=\"dataframe\">\n",
       "  <thead>\n",
       "    <tr style=\"text-align: right;\">\n",
       "      <th></th>\n",
       "      <th>no_of_employees</th>\n",
       "      <th>yr_of_estab</th>\n",
       "      <th>prevailing_wage</th>\n",
       "    </tr>\n",
       "  </thead>\n",
       "  <tbody>\n",
       "    <tr>\n",
       "      <th>count</th>\n",
       "      <td>25480.000000</td>\n",
       "      <td>25480.000000</td>\n",
       "      <td>25480.000000</td>\n",
       "    </tr>\n",
       "    <tr>\n",
       "      <th>mean</th>\n",
       "      <td>5667.043210</td>\n",
       "      <td>1979.409929</td>\n",
       "      <td>74455.814592</td>\n",
       "    </tr>\n",
       "    <tr>\n",
       "      <th>std</th>\n",
       "      <td>22877.928848</td>\n",
       "      <td>42.366929</td>\n",
       "      <td>52815.942327</td>\n",
       "    </tr>\n",
       "    <tr>\n",
       "      <th>min</th>\n",
       "      <td>-26.000000</td>\n",
       "      <td>1800.000000</td>\n",
       "      <td>2.136700</td>\n",
       "    </tr>\n",
       "    <tr>\n",
       "      <th>25%</th>\n",
       "      <td>1022.000000</td>\n",
       "      <td>1976.000000</td>\n",
       "      <td>34015.480000</td>\n",
       "    </tr>\n",
       "    <tr>\n",
       "      <th>50%</th>\n",
       "      <td>2109.000000</td>\n",
       "      <td>1997.000000</td>\n",
       "      <td>70308.210000</td>\n",
       "    </tr>\n",
       "    <tr>\n",
       "      <th>75%</th>\n",
       "      <td>3504.000000</td>\n",
       "      <td>2005.000000</td>\n",
       "      <td>107735.512500</td>\n",
       "    </tr>\n",
       "    <tr>\n",
       "      <th>max</th>\n",
       "      <td>602069.000000</td>\n",
       "      <td>2016.000000</td>\n",
       "      <td>319210.270000</td>\n",
       "    </tr>\n",
       "  </tbody>\n",
       "</table>\n",
       "</div>"
      ],
      "text/plain": [
       "       no_of_employees   yr_of_estab  prevailing_wage\n",
       "count     25480.000000  25480.000000     25480.000000\n",
       "mean       5667.043210   1979.409929     74455.814592\n",
       "std       22877.928848     42.366929     52815.942327\n",
       "min         -26.000000   1800.000000         2.136700\n",
       "25%        1022.000000   1976.000000     34015.480000\n",
       "50%        2109.000000   1997.000000     70308.210000\n",
       "75%        3504.000000   2005.000000    107735.512500\n",
       "max      602069.000000   2016.000000    319210.270000"
      ]
     },
     "execution_count": 21,
     "metadata": {},
     "output_type": "execute_result"
    }
   ],
   "source": [
    "visa_df.describe()"
   ]
  },
  {
   "cell_type": "code",
   "execution_count": 25,
   "id": "f7fc1763-b9af-4897-80d1-0e2821965b66",
   "metadata": {},
   "outputs": [
    {
     "data": {
      "text/plain": [
       "25480"
      ]
     },
     "execution_count": 25,
     "metadata": {},
     "output_type": "execute_result"
    }
   ],
   "source": [
    "Q1 = round(np.percentile(visa_df['prevailing_wage'],25),2)\n",
    "Q2 = round(np.percentile(visa_df['prevailing_wage'],50),2)\n",
    "Q3 = round(np.percentile(visa_df['prevailing_wage'],75),2)\n",
    "\n",
    "IQR = Q3-Q1\n",
    "\n",
    "LB = Q1-1.5*IQR\n",
    "UB = Q3+1.5*IQR\n",
    "\n",
    "con1 = visa_df['prevailing_wage']<LB\n",
    "\n",
    "con2 = visa_df['prevailing_wage']>UB\n",
    "\n",
    "\n",
    "outlier_df = visa_df[con1 | con2]\n",
    "\n",
    "len(outlier_df)\n",
    "\n"
   ]
  },
  {
   "cell_type": "code",
   "execution_count": 24,
   "id": "71553219-15ea-4bd9-bbce-dd21a5e5d974",
   "metadata": {},
   "outputs": [
    {
     "data": {
      "text/plain": [
       "25053"
      ]
     },
     "execution_count": 24,
     "metadata": {},
     "output_type": "execute_result"
    }
   ],
   "source": [
    "Q1 = round(np.percentile(visa_df['prevailing_wage'],25),2)\n",
    "Q2 = round(np.percentile(visa_df['prevailing_wage'],50),2)\n",
    "Q3 = round(np.percentile(visa_df['prevailing_wage'],75),2)\n",
    "\n",
    "IQR = Q3-Q1\n",
    "\n",
    "LB = Q1-1.5*IQR\n",
    "UB = Q3+1.5*IQR\n",
    "\n",
    "con1 = visa_df['prevailing_wage']>LB\n",
    "\n",
    "con2 = visa_df['prevailing_wage']<UB\n",
    "\n",
    "\n",
    "non_outlier_df = visa_df[con1 & con2]\n",
    "\n",
    "len(non_outlier_df)\n",
    "\n"
   ]
  },
  {
   "cell_type": "code",
   "execution_count": 26,
   "id": "ec6e8ec1-ffcc-4081-bf2b-2e8754534d51",
   "metadata": {},
   "outputs": [
    {
     "data": {
      "image/png": "[encoded data removed]",
      "text/plain": [
       "<Figure size 1400x500 with 2 Axes>"
      ]
     },
     "metadata": {},
     "output_type": "display_data"
    }
   ],
   "source": [
    "plt.figure(figsize=(14,5))\n",
    "plt.subplot(1,2,1).hist(non_outlier_df['prevailing_wage'])\n",
    "plt.subplot(1,2,2).boxplot(non_outlier_df['prevailing_wage'])\n",
    "plt.show()"
   ]
  },
  {
   "cell_type": "code",
   "execution_count": 31,
   "id": "eccbdd4a-bce9-473c-9550-d270f9de79e0",
   "metadata": {},
   "outputs": [
    {
     "data": {
      "image/png": "[encoded data removed]",
      "text/plain": [
       "<Figure size 1400x500 with 4 Axes>"
      ]
     },
     "metadata": {},
     "output_type": "display_data"
    }
   ],
   "source": [
    "plt.figure(figsize=(14,5))\n",
    "plt.suptitle('Non outlier data VS Original data')\n",
    "plt.subplot(2,2,1).hist(non_outlier_df['prevailing_wage'])\n",
    "plt.subplot(2,2,2).boxplot(visa_df['prevailing_wage'])\n",
    "\n",
    "\n",
    "plt.subplot(2,2,3).hist(visa_df['prevailing_wage'])\n",
    "plt.subplot(2,2,4).boxplot(non_outlier_df['prevailing_wage'])\n",
    "plt.show()"
   ]
  },
  {
   "cell_type": "markdown",
   "id": "b716a950-b2bd-402b-bdca-0757b8be537a",
   "metadata": {},
   "source": [
    "**same plot two data**"
   ]
  },
  {
   "cell_type": "code",
   "execution_count": null,
   "id": "68162ac9-10ad-4ac8-b1f5-f4809572e58d",
   "metadata": {},
   "outputs": [],
   "source": [
    "plt.figure(figsize=(14,5))\n",
    "plt.subplot(1,2,1).hist(visa_df['prevailing_wage'])\n",
    "plt.subplot(2,2,1).hist(non_outlier_df['prevailing_wage'])\n",
    "plt.subplot(1,2,2).boplot(non_outlier_df['prevailing_wage'])\n",
    "plt.show()"
   ]
  },
  {
   "cell_type": "markdown",
   "id": "9d1251c7-972b-43a5-ac9d-11953d33150e",
   "metadata": {},
   "source": [
    "**how to deal the outlier**`"
   ]
  },
  {
   "cell_type": "code",
   "execution_count": null,
   "id": "25979703-3aad-4747-9578-06896e6d61bf",
   "metadata": {},
   "outputs": [],
   "source": [
    "**method-1 : Drop the outliers**\n",
    "\n",
    "  - drop the outliers is not a good idea\n",
    "\n",
    "  -  when you drop the outliers , data will loss\n",
    "\n",
    "   -  for example here we are droping 427\n",
    "\n",
    "  - X% of 25480 = 427\n",
    "\n",
    "  -  it is 1.7% data ,here it is fine we can drop the outliers\n",
    "\n",
    "**method-2 : fill with median values**\n",
    "\n",
    "    - we already know that outerlier does not affect the median\n",
    "\n",
    "    - so we can fill outlier by mean\n",
    "\n",
    "**method-3  : cap the values with q1 and Q2\n",
    "\n",
    "- all less than \n",
    "\n"
   ]
  },
  {
   "cell_type": "code",
   "execution_count": 59,
   "id": "ba066e1e-e823-438c-a470-e76952161b55",
   "metadata": {},
   "outputs": [
    {
     "data": {
      "image/png": "[encoded data removed]",
      "text/plain": [
       "<Figure size 640x480 with 2 Axes>"
      ]
     },
     "metadata": {},
     "output_type": "display_data"
    }
   ],
   "source": [
    "list=[]\n",
    "median_val = visa_df['prevailing_wage'].median()\n",
    "for i in visa_df['prevailing_wage'].values:\n",
    "    if i< LB or i> UB:\n",
    "        list.append(median_val)\n",
    "    else:\n",
    "        list.append(i)\n",
    "\n",
    "visa_df_copy = visa_df.copy()\n",
    "visa_df_copy['prevailing_wage'] = list\n",
    "plt.subplot(1,2,1).boxplot(visa_df_copy['prevailing_wage'])\n",
    "plt.subplot(1,2,2).boxplot(visa_df['prevailing_wage'])\n",
    "plt.show()"
   ]
  },
  {
   "cell_type": "markdown",
   "id": "72316d31-d791-4e04-b951-bc4e8e549e9e",
   "metadata": {},
   "source": [
    "**np.where**\n",
    "\n",
    "\n",
    "- np.where will use for binary condition \n",
    "\n",
    "- it has 3 arg \n",
    "\n",
    "  - condition\n",
    "\n",
    "   - if condition is true\n",
    "\n",
    "   - if condition is false\n",
    "\n"
   ]
  },
  {
   "cell_type": "code",
   "execution_count": 50,
   "id": "f298f68f-2072-4269-8fe3-908098597717",
   "metadata": {},
   "outputs": [
    {
     "data": {
      "text/html": [
       "<div>\n",
       "<style scoped>\n",
       "    .dataframe tbody tr th:only-of-type {\n",
       "        vertical-align: middle;\n",
       "    }\n",
       "\n",
       "    .dataframe tbody tr th {\n",
       "        vertical-align: top;\n",
       "    }\n",
       "\n",
       "    .dataframe thead th {\n",
       "        text-align: right;\n",
       "    }\n",
       "</style>\n",
       "<table border=\"1\" class=\"dataframe\">\n",
       "  <thead>\n",
       "    <tr style=\"text-align: right;\">\n",
       "      <th></th>\n",
       "      <th>sub</th>\n",
       "      <th>marks</th>\n",
       "    </tr>\n",
       "  </thead>\n",
       "  <tbody>\n",
       "    <tr>\n",
       "      <th>0</th>\n",
       "      <td>DS</td>\n",
       "      <td>100</td>\n",
       "    </tr>\n",
       "    <tr>\n",
       "      <th>1</th>\n",
       "      <td>ML</td>\n",
       "      <td>150</td>\n",
       "    </tr>\n",
       "    <tr>\n",
       "      <th>2</th>\n",
       "      <td>CS</td>\n",
       "      <td>20</td>\n",
       "    </tr>\n",
       "  </tbody>\n",
       "</table>\n",
       "</div>"
      ],
      "text/plain": [
       "  sub  marks\n",
       "0  DS    100\n",
       "1  ML    150\n",
       "2  CS     20"
      ]
     },
     "execution_count": 50,
     "metadata": {},
     "output_type": "execute_result"
    }
   ],
   "source": [
    "d = {\"sub\":[\"DS\",\"ML\",\"CS\"],\n",
    "    \"marks\":[100,150,20]}\n",
    "\n",
    "data=pd.DataFrame(d)\n",
    "\n",
    "data"
   ]
  },
  {
   "cell_type": "code",
   "execution_count": 52,
   "id": "9a56a60c-37c4-417f-b188-b0ba14b06f13",
   "metadata": {},
   "outputs": [
    {
     "data": {
      "text/plain": [
       "array([100,   1,  20], dtype=int64)"
      ]
     },
     "execution_count": 52,
     "metadata": {},
     "output_type": "execute_result"
    }
   ],
   "source": [
    "con = data['marks']>100\n",
    "l=np.where(con,1,data['marks'])\n",
    "l"
   ]
  },
  {
   "cell_type": "code",
   "execution_count": 61,
   "id": "d6888616-3bce-498d-95aa-7b7c95f96234",
   "metadata": {},
   "outputs": [
    {
     "data": {
      "image/png": "[encoded data removed]",
      "text/plain": [
       "<Figure size 1500x300 with 2 Axes>"
      ]
     },
     "metadata": {},
     "output_type": "display_data"
    }
   ],
   "source": [
    "plt.figure(figsize=(15,3))\n",
    "con19= visa_df['prevailing_wage']>LB \n",
    "con10 = visa_df['prevailing_wage']>UB\n",
    "con2 = con19|con10\n",
    "\n",
    "m = visa_df['prevailing_wage'].median()\n",
    "new_data=np.where(con2,\n",
    "                 m,\n",
    "                 visa_df['prevailing_wage'])\n",
    "visa_df_copy = visa_df.copy()\n",
    "visa_df_copy['prevailing_wage'] = list\n",
    "plt.subplot(1,2,1).boxplot(visa_df_copy['prevailing_wage'])\n",
    "plt.subplot(1,2,2).boxplot(visa_df['prevailing_wage'])\n",
    "plt.show()"
   ]
  },
  {
   "cell_type": "code",
   "execution_count": null,
   "id": "98e941ba-2d84-4515-8025-817e07b73744",
   "metadata": {},
   "outputs": [],
   "source": []
  },
  {
   "cell_type": "code",
   "execution_count": null,
   "id": "f0315089-34b2-4889-b06d-36594ee23535",
   "metadata": {},
   "outputs": [],
   "source": []
  }
 ],
 "metadata": {
  "kernelspec": {
   "display_name": "Python 3 (ipykernel)",
   "language": "python",
   "name": "python3"
  },
  "language_info": {
   "codemirror_mode": {
    "name": "ipython",
    "version": 3
   },
   "file_extension": ".py",
   "mimetype": "text/x-python",
   "name": "python",
   "nbconvert_exporter": "python",
   "pygments_lexer": "ipython3",
   "version": "3.11.7"
  }
 },
 "nbformat": 4,
 "nbformat_minor": 5
}
